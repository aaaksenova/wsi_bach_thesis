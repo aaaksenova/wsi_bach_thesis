{
  "nbformat": 4,
  "nbformat_minor": 0,
  "metadata": {
    "colab": {
      "name": "Semantic_markup_rnc.ipynb",
      "provenance": [],
      "authorship_tag": "ABX9TyMErIoqfXtTE9MU47wBudmE",
      "include_colab_link": true
    },
    "kernelspec": {
      "name": "python3",
      "display_name": "Python 3"
    },
    "language_info": {
      "name": "python"
    }
  },
  "cells": [
    {
      "cell_type": "markdown",
      "metadata": {
        "id": "view-in-github",
        "colab_type": "text"
      },
      "source": [
        "<a href=\"https://colab.research.google.com/github/aaaksenova/wsi_bach_thesis/blob/change/Semantic_markup_rnc.ipynb\" target=\"_parent\"><img src=\"https://colab.research.google.com/assets/colab-badge.svg\" alt=\"Open In Colab\"/></a>"
      ]
    },
    {
      "cell_type": "markdown",
      "source": [
        "# Compairison of RNC senamtic markup and RuWordNet senses"
      ],
      "metadata": {
        "id": "6zIf4JDoQ_CF"
      }
    },
    {
      "cell_type": "code",
      "source": [
        "! pip install ruwordnet\n",
        "! ruwordnet download"
      ],
      "metadata": {
        "colab": {
          "base_uri": "https://localhost:8080/"
        },
        "id": "bt_N5yEVFOEN",
        "outputId": "10c26f45-22e6-4569-c08c-f571d6579c1e"
      },
      "execution_count": 1,
      "outputs": [
        {
          "output_type": "stream",
          "name": "stdout",
          "text": [
            "Collecting ruwordnet\n",
            "  Downloading ruwordnet-0.0.3.tar.gz (13 kB)\n",
            "Requirement already satisfied: sqlalchemy in /usr/local/lib/python3.7/dist-packages (from ruwordnet) (1.4.27)\n",
            "Requirement already satisfied: greenlet!=0.4.17 in /usr/local/lib/python3.7/dist-packages (from sqlalchemy->ruwordnet) (1.1.2)\n",
            "Requirement already satisfied: importlib-metadata in /usr/local/lib/python3.7/dist-packages (from sqlalchemy->ruwordnet) (4.8.2)\n",
            "Requirement already satisfied: typing-extensions>=3.6.4 in /usr/local/lib/python3.7/dist-packages (from importlib-metadata->sqlalchemy->ruwordnet) (3.10.0.2)\n",
            "Requirement already satisfied: zipp>=0.5 in /usr/local/lib/python3.7/dist-packages (from importlib-metadata->sqlalchemy->ruwordnet) (3.6.0)\n",
            "Building wheels for collected packages: ruwordnet\n",
            "  Building wheel for ruwordnet (setup.py) ... \u001b[?25l\u001b[?25hdone\n",
            "  Created wheel for ruwordnet: filename=ruwordnet-0.0.3-py3-none-any.whl size=11621 sha256=8fb1b835b036946701879841f1298d1e3e4606568885246262d81f11d8d4e4c2\n",
            "  Stored in directory: /root/.cache/pip/wheels/44/82/4b/016af6cfab5855b87d3015eee1650f5560ee9fab885c7ef6b3\n",
            "Successfully built ruwordnet\n",
            "Installing collected packages: ruwordnet\n",
            "Successfully installed ruwordnet-0.0.3\n",
            "downloading a ruwordnet model from https://github.com/avidale/python-ruwordnet/releases/download/0.0.2/ruwordnet.db\n"
          ]
        }
      ]
    },
    {
      "cell_type": "code",
      "execution_count": 2,
      "metadata": {
        "id": "FYhKe4DX-e7C"
      },
      "outputs": [],
      "source": [
        "from ruwordnet import RuWordNet\n",
        "import pandas as pd\n",
        "\n",
        "wn = RuWordNet()"
      ]
    },
    {
      "cell_type": "code",
      "source": [
        "df = pd.read_excel('sem_rnc.xlsx')\n",
        "df.columns"
      ],
      "metadata": {
        "colab": {
          "base_uri": "https://localhost:8080/"
        },
        "id": "qvNSdOBg-t8C",
        "outputId": "1f75129a-8a8a-441f-ad1f-daff5d051e05"
      },
      "execution_count": 3,
      "outputs": [
        {
          "output_type": "execute_result",
          "data": {
            "text/plain": [
              "Index(['Cat', 'Lemma', 'n', 'r', 't', 'ev', 'd', 'd.1', 'der', 'dt', 'Ex',\n",
              "       'Unnamed: 11', 'Unnamed: 12', 'Unnamed: 13', 'Unnamed: 14',\n",
              "       'Unnamed: 15', 'Unnamed: 16', 'Unnamed: 17', 'Unnamed: 18',\n",
              "       'Unnamed: 19'],\n",
              "      dtype='object')"
            ]
          },
          "metadata": {},
          "execution_count": 3
        }
      ]
    },
    {
      "cell_type": "code",
      "source": [
        "df = df[['Cat', 'Lemma', 'n', 'r', 't', 'ev', 'd', 'd.1', 'der', 'dt', 'Ex']]\n",
        "df"
      ],
      "metadata": {
        "colab": {
          "base_uri": "https://localhost:8080/",
          "height": 419
        },
        "id": "3eG-X-6cFlVG",
        "outputId": "f03ccc09-c43c-43f8-ab16-98af26431f06"
      },
      "execution_count": 4,
      "outputs": [
        {
          "output_type": "execute_result",
          "data": {
            "text/html": [
              "<div>\n",
              "<style scoped>\n",
              "    .dataframe tbody tr th:only-of-type {\n",
              "        vertical-align: middle;\n",
              "    }\n",
              "\n",
              "    .dataframe tbody tr th {\n",
              "        vertical-align: top;\n",
              "    }\n",
              "\n",
              "    .dataframe thead th {\n",
              "        text-align: right;\n",
              "    }\n",
              "</style>\n",
              "<table border=\"1\" class=\"dataframe\">\n",
              "  <thead>\n",
              "    <tr style=\"text-align: right;\">\n",
              "      <th></th>\n",
              "      <th>Cat</th>\n",
              "      <th>Lemma</th>\n",
              "      <th>n</th>\n",
              "      <th>r</th>\n",
              "      <th>t</th>\n",
              "      <th>ev</th>\n",
              "      <th>d</th>\n",
              "      <th>d.1</th>\n",
              "      <th>der</th>\n",
              "      <th>dt</th>\n",
              "      <th>Ex</th>\n",
              "    </tr>\n",
              "  </thead>\n",
              "  <tbody>\n",
              "    <tr>\n",
              "      <th>0</th>\n",
              "      <td>A</td>\n",
              "      <td>абортивный</td>\n",
              "      <td>1</td>\n",
              "      <td>rel</td>\n",
              "      <td>NaN</td>\n",
              "      <td>NaN</td>\n",
              "      <td>NaN</td>\n",
              "      <td>NaN</td>\n",
              "      <td>s</td>\n",
              "      <td>physiol/abstr</td>\n",
              "      <td>А. метод</td>\n",
              "    </tr>\n",
              "    <tr>\n",
              "      <th>1</th>\n",
              "      <td>A</td>\n",
              "      <td>абортивный</td>\n",
              "      <td>NaN</td>\n",
              "      <td>rel</td>\n",
              "      <td>NaN</td>\n",
              "      <td>NaN</td>\n",
              "      <td>NaN</td>\n",
              "      <td>NaN</td>\n",
              "      <td>s</td>\n",
              "      <td>physiol/abstr</td>\n",
              "      <td>Абортивные органы растений</td>\n",
              "    </tr>\n",
              "    <tr>\n",
              "      <th>2</th>\n",
              "      <td>A</td>\n",
              "      <td>абсолютный</td>\n",
              "      <td>1</td>\n",
              "      <td>rel</td>\n",
              "      <td>NaN</td>\n",
              "      <td>NaN</td>\n",
              "      <td>NaN</td>\n",
              "      <td>NaN</td>\n",
              "      <td>s</td>\n",
              "      <td>NaN</td>\n",
              "      <td>Абсолютная величина действительного числа</td>\n",
              "    </tr>\n",
              "    <tr>\n",
              "      <th>3</th>\n",
              "      <td>A</td>\n",
              "      <td>абсолютный</td>\n",
              "      <td>NaN</td>\n",
              "      <td>qual</td>\n",
              "      <td>degr:max:@magn</td>\n",
              "      <td>NaN</td>\n",
              "      <td>NaN</td>\n",
              "      <td>NaN</td>\n",
              "      <td>s</td>\n",
              "      <td>NaN</td>\n",
              "      <td>А. покой</td>\n",
              "    </tr>\n",
              "    <tr>\n",
              "      <th>4</th>\n",
              "      <td>A</td>\n",
              "      <td>абстрактный</td>\n",
              "      <td>1</td>\n",
              "      <td>rel</td>\n",
              "      <td>NaN</td>\n",
              "      <td>NaN</td>\n",
              "      <td>NaN</td>\n",
              "      <td>NaN</td>\n",
              "      <td>s</td>\n",
              "      <td>ment/abstr</td>\n",
              "      <td>Абстрактное понятие</td>\n",
              "    </tr>\n",
              "    <tr>\n",
              "      <th>...</th>\n",
              "      <td>...</td>\n",
              "      <td>...</td>\n",
              "      <td>...</td>\n",
              "      <td>...</td>\n",
              "      <td>...</td>\n",
              "      <td>...</td>\n",
              "      <td>...</td>\n",
              "      <td>...</td>\n",
              "      <td>...</td>\n",
              "      <td>...</td>\n",
              "      <td>...</td>\n",
              "    </tr>\n",
              "    <tr>\n",
              "      <th>375644</th>\n",
              "      <td>V</td>\n",
              "      <td>этимологизировать</td>\n",
              "      <td>1</td>\n",
              "      <td>NaN</td>\n",
              "      <td>NaN</td>\n",
              "      <td>NaN</td>\n",
              "      <td>NaN</td>\n",
              "      <td>NaN</td>\n",
              "      <td>NaN</td>\n",
              "      <td>s</td>\n",
              "      <td>NaN</td>\n",
              "    </tr>\n",
              "    <tr>\n",
              "      <th>375645</th>\n",
              "      <td>V</td>\n",
              "      <td>юнеть</td>\n",
              "      <td>1</td>\n",
              "      <td>NaN</td>\n",
              "      <td>NaN</td>\n",
              "      <td>NaN</td>\n",
              "      <td>NaN</td>\n",
              "      <td>NaN</td>\n",
              "      <td>NaN</td>\n",
              "      <td>a</td>\n",
              "      <td>NaN</td>\n",
              "    </tr>\n",
              "    <tr>\n",
              "      <th>375646</th>\n",
              "      <td>V</td>\n",
              "      <td>языкоблудствовать</td>\n",
              "      <td>1</td>\n",
              "      <td>NaN</td>\n",
              "      <td>NaN</td>\n",
              "      <td>NaN</td>\n",
              "      <td>ev:neg</td>\n",
              "      <td>NaN</td>\n",
              "      <td>NaN</td>\n",
              "      <td>s</td>\n",
              "      <td>NaN</td>\n",
              "    </tr>\n",
              "    <tr>\n",
              "      <th>375647</th>\n",
              "      <td>V</td>\n",
              "      <td>якать</td>\n",
              "      <td>1</td>\n",
              "      <td>NaN</td>\n",
              "      <td>NaN</td>\n",
              "      <td>NaN</td>\n",
              "      <td>NaN</td>\n",
              "      <td>NaN</td>\n",
              "      <td>NaN</td>\n",
              "      <td>spro</td>\n",
              "      <td>NaN</td>\n",
              "    </tr>\n",
              "    <tr>\n",
              "      <th>375648</th>\n",
              "      <td>V</td>\n",
              "      <td>ярить</td>\n",
              "      <td>1</td>\n",
              "      <td>NaN</td>\n",
              "      <td>NaN</td>\n",
              "      <td>NaN</td>\n",
              "      <td>NaN</td>\n",
              "      <td>NaN</td>\n",
              "      <td>NaN</td>\n",
              "      <td>a</td>\n",
              "      <td>NaN</td>\n",
              "    </tr>\n",
              "  </tbody>\n",
              "</table>\n",
              "<p>375649 rows × 11 columns</p>\n",
              "</div>"
            ],
            "text/plain": [
              "       Cat  ...                                         Ex\n",
              "0        A  ...                                   А. метод\n",
              "1        A  ...                 Абортивные органы растений\n",
              "2        A  ...  Абсолютная величина действительного числа\n",
              "3        A  ...                                   А. покой\n",
              "4        A  ...                        Абстрактное понятие\n",
              "...     ..  ...                                        ...\n",
              "375644   V  ...                                        NaN\n",
              "375645   V  ...                                        NaN\n",
              "375646   V  ...                                        NaN\n",
              "375647   V  ...                                        NaN\n",
              "375648   V  ...                                        NaN\n",
              "\n",
              "[375649 rows x 11 columns]"
            ]
          },
          "metadata": {},
          "execution_count": 4
        }
      ]
    },
    {
      "cell_type": "code",
      "source": [
        "def ruwordnet_comparison(filepath):\n",
        "    '''\n",
        "    Function processes the given dataframe and \n",
        "    returns the number of senses for each word\n",
        "    '''\n",
        "\n",
        "    df = pd.read_excel(filepath)\n",
        "    df.Lemma = df.Lemma.astype('str')\n",
        "    grouped_df = pd.DataFrame(df.Lemma.value_counts().reset_index().values, columns=[\"Lemma\", \"rnc_num_senses\"])\n",
        "    grouped_df['ruwordnet_num_senses'] = grouped_df['Lemma'].apply(lambda x: len(wn.get_senses(x)))\n",
        "    grouped_df['deviation'] = - grouped_df['rnc_num_senses'] + grouped_df['ruwordnet_num_senses']\n",
        "    \n",
        "    return grouped_df"
      ],
      "metadata": {
        "id": "c29Rtj9iALhE"
      },
      "execution_count": 18,
      "outputs": []
    },
    {
      "cell_type": "code",
      "source": [
        "df_rnc_wordnet = ruwordnet_comparison('sem_rnc.xlsx')\n",
        "df_rnc_wordnet"
      ],
      "metadata": {
        "colab": {
          "base_uri": "https://localhost:8080/",
          "height": 419
        },
        "id": "ipSS-JPqGAVW",
        "outputId": "e4abecae-4c9d-4025-b581-03c80369cb22"
      },
      "execution_count": 19,
      "outputs": [
        {
          "output_type": "execute_result",
          "data": {
            "text/html": [
              "<div>\n",
              "<style scoped>\n",
              "    .dataframe tbody tr th:only-of-type {\n",
              "        vertical-align: middle;\n",
              "    }\n",
              "\n",
              "    .dataframe tbody tr th {\n",
              "        vertical-align: top;\n",
              "    }\n",
              "\n",
              "    .dataframe thead th {\n",
              "        text-align: right;\n",
              "    }\n",
              "</style>\n",
              "<table border=\"1\" class=\"dataframe\">\n",
              "  <thead>\n",
              "    <tr style=\"text-align: right;\">\n",
              "      <th></th>\n",
              "      <th>Lemma</th>\n",
              "      <th>rnc_num_senses</th>\n",
              "      <th>ruwordnet_num_senses</th>\n",
              "      <th>deviation</th>\n",
              "    </tr>\n",
              "  </thead>\n",
              "  <tbody>\n",
              "    <tr>\n",
              "      <th>0</th>\n",
              "      <td>идти</td>\n",
              "      <td>26</td>\n",
              "      <td>8</td>\n",
              "      <td>-18</td>\n",
              "    </tr>\n",
              "    <tr>\n",
              "      <th>1</th>\n",
              "      <td>принять</td>\n",
              "      <td>18</td>\n",
              "      <td>7</td>\n",
              "      <td>-11</td>\n",
              "    </tr>\n",
              "    <tr>\n",
              "      <th>2</th>\n",
              "      <td>сила</td>\n",
              "      <td>18</td>\n",
              "      <td>4</td>\n",
              "      <td>-14</td>\n",
              "    </tr>\n",
              "    <tr>\n",
              "      <th>3</th>\n",
              "      <td>пройти</td>\n",
              "      <td>17</td>\n",
              "      <td>6</td>\n",
              "      <td>-11</td>\n",
              "    </tr>\n",
              "    <tr>\n",
              "      <th>4</th>\n",
              "      <td>поднять</td>\n",
              "      <td>17</td>\n",
              "      <td>2</td>\n",
              "      <td>-15</td>\n",
              "    </tr>\n",
              "    <tr>\n",
              "      <th>...</th>\n",
              "      <td>...</td>\n",
              "      <td>...</td>\n",
              "      <td>...</td>\n",
              "      <td>...</td>\n",
              "    </tr>\n",
              "    <tr>\n",
              "      <th>346802</th>\n",
              "      <td>лайпанова</td>\n",
              "      <td>1</td>\n",
              "      <td>0</td>\n",
              "      <td>-1</td>\n",
              "    </tr>\n",
              "    <tr>\n",
              "      <th>346803</th>\n",
              "      <td>бобунова</td>\n",
              "      <td>1</td>\n",
              "      <td>0</td>\n",
              "      <td>-1</td>\n",
              "    </tr>\n",
              "    <tr>\n",
              "      <th>346804</th>\n",
              "      <td>спрыснуться</td>\n",
              "      <td>1</td>\n",
              "      <td>0</td>\n",
              "      <td>-1</td>\n",
              "    </tr>\n",
              "    <tr>\n",
              "      <th>346805</th>\n",
              "      <td>щавелевый</td>\n",
              "      <td>1</td>\n",
              "      <td>1</td>\n",
              "      <td>0</td>\n",
              "    </tr>\n",
              "    <tr>\n",
              "      <th>346806</th>\n",
              "      <td>айгунов</td>\n",
              "      <td>1</td>\n",
              "      <td>0</td>\n",
              "      <td>-1</td>\n",
              "    </tr>\n",
              "  </tbody>\n",
              "</table>\n",
              "<p>346807 rows × 4 columns</p>\n",
              "</div>"
            ],
            "text/plain": [
              "              Lemma rnc_num_senses  ruwordnet_num_senses deviation\n",
              "0              идти             26                     8       -18\n",
              "1           принять             18                     7       -11\n",
              "2              сила             18                     4       -14\n",
              "3            пройти             17                     6       -11\n",
              "4           поднять             17                     2       -15\n",
              "...             ...            ...                   ...       ...\n",
              "346802    лайпанова              1                     0        -1\n",
              "346803     бобунова              1                     0        -1\n",
              "346804  спрыснуться              1                     0        -1\n",
              "346805    щавелевый              1                     1         0\n",
              "346806      айгунов              1                     0        -1\n",
              "\n",
              "[346807 rows x 4 columns]"
            ]
          },
          "metadata": {},
          "execution_count": 19
        }
      ]
    },
    {
      "cell_type": "code",
      "source": [
        "df_rnc_wordnet.deviation.value_counts()"
      ],
      "metadata": {
        "id": "VO_NkDInQVh_",
        "outputId": "6cf59f1c-357c-4d12-cf9a-52117eefbdc1",
        "colab": {
          "base_uri": "https://localhost:8080/"
        }
      },
      "execution_count": 36,
      "outputs": [
        {
          "output_type": "execute_result",
          "data": {
            "text/plain": [
              "-1     297832\n",
              " 0      33536\n",
              "-2       6856\n",
              " 1       5346\n",
              " 2       1097\n",
              "-3       1063\n",
              " 3        400\n",
              "-4        317\n",
              " 4        122\n",
              "-5         88\n",
              " 5         44\n",
              "-6         43\n",
              "-7         27\n",
              " 6         11\n",
              "-9          6\n",
              "-10         4\n",
              "-8          4\n",
              "-11         3\n",
              "-12         2\n",
              " 7          2\n",
              "-18         1\n",
              " 8          1\n",
              "-14         1\n",
              "-15         1\n",
              "Name: deviation, dtype: int64"
            ]
          },
          "metadata": {},
          "execution_count": 36
        }
      ]
    },
    {
      "cell_type": "code",
      "source": [
        "df_rnc_wordnet.rnc_num_senses.hist()"
      ],
      "metadata": {
        "id": "VWdpmthxQn7J",
        "outputId": "230f4d24-16cb-4c6d-bfa6-0ccbe21770cb",
        "colab": {
          "base_uri": "https://localhost:8080/",
          "height": 282
        }
      },
      "execution_count": 37,
      "outputs": [
        {
          "output_type": "execute_result",
          "data": {
            "text/plain": [
              "<matplotlib.axes._subplots.AxesSubplot at 0x7fcfd7d9af50>"
            ]
          },
          "metadata": {},
          "execution_count": 37
        },
        {
          "output_type": "display_data",
          "data": {
            "image/png": "[encoded data removed]",
            "text/plain": [
              "<Figure size 432x288 with 1 Axes>"
            ]
          },
          "metadata": {
            "needs_background": "light"
          }
        }
      ]
    },
    {
      "cell_type": "code",
      "source": [
        "df_rnc_wordnet.rnc_num_senses.value_counts()"
      ],
      "metadata": {
        "id": "Mh6bpMdgGgp2",
        "outputId": "3f4f7b4c-803a-435d-cd61-10cdb8e08943",
        "colab": {
          "base_uri": "https://localhost:8080/"
        }
      },
      "execution_count": 30,
      "outputs": [
        {
          "output_type": "execute_result",
          "data": {
            "text/plain": [
              "1     327841\n",
              "2      13540\n",
              "3       3206\n",
              "4       1211\n",
              "5        503\n",
              "6        222\n",
              "7        126\n",
              "8         49\n",
              "9         44\n",
              "10        32\n",
              "11        15\n",
              "12         7\n",
              "13         3\n",
              "18         2\n",
              "17         2\n",
              "14         1\n",
              "15         1\n",
              "16         1\n",
              "26         1\n",
              "Name: rnc_num_senses, dtype: int64"
            ]
          },
          "metadata": {},
          "execution_count": 30
        }
      ]
    },
    {
      "cell_type": "code",
      "source": [
        "df_rnc_wordnet.ruwordnet_num_senses.hist()"
      ],
      "metadata": {
        "id": "fQ5qKS_bOgEM",
        "outputId": "6f43bb91-9f63-4df4-a666-17d94b40b886",
        "colab": {
          "base_uri": "https://localhost:8080/",
          "height": 282
        }
      },
      "execution_count": 21,
      "outputs": [
        {
          "output_type": "execute_result",
          "data": {
            "text/plain": [
              "<matplotlib.axes._subplots.AxesSubplot at 0x7fcfd8f92850>"
            ]
          },
          "metadata": {},
          "execution_count": 21
        },
        {
          "output_type": "display_data",
          "data": {
            "image/png": "[encoded data removed]",
            "text/plain": [
              "<Figure size 432x288 with 1 Axes>"
            ]
          },
          "metadata": {
            "needs_background": "light"
          }
        }
      ]
    },
    {
      "cell_type": "code",
      "source": [
        "df_rnc_wordnet.ruwordnet_num_senses.value_counts()"
      ],
      "metadata": {
        "id": "CnIBDojqPVCj",
        "outputId": "98348e07-9ba5-49fc-9430-1217fc2fb2a6",
        "colab": {
          "base_uri": "https://localhost:8080/"
        }
      },
      "execution_count": 32,
      "outputs": [
        {
          "output_type": "execute_result",
          "data": {
            "text/plain": [
              "0     298197\n",
              "1      35700\n",
              "2       8864\n",
              "3       2444\n",
              "4       1008\n",
              "5        385\n",
              "6        142\n",
              "7         45\n",
              "8         16\n",
              "9          5\n",
              "10         1\n",
              "Name: ruwordnet_num_senses, dtype: int64"
            ]
          },
          "metadata": {},
          "execution_count": 32
        }
      ]
    },
    {
      "cell_type": "markdown",
      "source": [
        "As one can see, most of the words from RNC do not exist in RuWordNet and in general RNC semantic markup is more fine-grained."
      ],
      "metadata": {
        "id": "1EqGEouERLBl"
      }
    },
    {
      "cell_type": "code",
      "source": [
        ""
      ],
      "metadata": {
        "id": "v4CGybfBOyzh"
      },
      "execution_count": null,
      "outputs": []
    }
  ]
}