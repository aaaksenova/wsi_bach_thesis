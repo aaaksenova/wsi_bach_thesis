{
  "nbformat": 4,
  "nbformat_minor": 0,
  "metadata": {
    "colab": {
      "name": "max_ari.ipynb",
      "provenance": [],
      "collapsed_sections": [],
      "include_colab_link": true
    },
    "kernelspec": {
      "name": "python3",
      "display_name": "Python 3"
    },
    "language_info": {
      "name": "python"
    }
  },
  "cells": [
    {
      "cell_type": "markdown",
      "metadata": {
        "id": "view-in-github",
        "colab_type": "text"
      },
      "source": [
        "<a href=\"https://colab.research.google.com/github/aaaksenova/wsi_bach_thesis/blob/change/max_ari.ipynb\" target=\"_parent\"><img src=\"https://colab.research.google.com/assets/colab-badge.svg\" alt=\"Open In Colab\"/></a>"
      ]
    },
    {
      "cell_type": "markdown",
      "metadata": {
        "id": "BkOd8imxJ1E0"
      },
      "source": [
        "# An Interpretable Approach to Lexical Semantic Change Detection with Lexical Substitution"
      ]
    },
    {
      "cell_type": "markdown",
      "metadata": {
        "id": "aX6yuRH_dWEf"
      },
      "source": [
        "Collecting data."
      ]
    },
    {
      "cell_type": "code",
      "metadata": {
        "colab": {
          "base_uri": "https://localhost:8080/"
        },
        "id": "0iqNzikMHQ8A",
        "outputId": "6d688397-94d4-4a5b-fb6c-e2b3dfdffdbe"
      },
      "source": [
        "# for_practics is a private key. since bitbucket repo is private, one first needs \n",
        "# to receive access to the repo, then share his public key with bitbucket, \n",
        "# and then the private key is used to authenticate\n",
        "!eval ssh-agent -s && ssh-add for_practics && git clone git@bitbucket.org:nvanva/summer-wsi.git\n",
        "!chmod 400 for_practics\n",
        "!ssh-keyscan -t rsa bitbucket.org >> ~/.ssh/known_hosts\n",
        "!eval `ssh-agent -s` && ssh-add for_practics && git clone git@bitbucket.org:nvanva/summer-wsi.git\n",
        "!wget http://92.63.96.33/c/ilimdb_sentiment_final/files/static/bts-rnc-train-andalso.tar.gz\n",
        "!tar xvzf /content/bts-rnc-train-andalso.tar.gz"
      ],
      "execution_count": null,
      "outputs": [
        {
          "output_type": "stream",
          "name": "stdout",
          "text": [
            "SSH_AUTH_SOCK=/tmp/ssh-v9vrY8ikPaiR/agent.110; export SSH_AUTH_SOCK;\n",
            "SSH_AGENT_PID=111; export SSH_AGENT_PID;\n",
            "echo Agent pid 111;\n",
            "Could not open a connection to your authentication agent.\n",
            "/bin/bash: /root/.ssh/known_hosts: No such file or directory\n",
            "Agent pid 119\n",
            "Identity added: for_practics (romankazakov.krm@gmail.com)\n",
            "Cloning into 'summer-wsi'...\n",
            "Host key verification failed.\n",
            "fatal: Could not read from remote repository.\n",
            "\n",
            "Please make sure you have the correct access rights\n",
            "and the repository exists.\n",
            "--2021-09-29 11:56:54--  http://92.63.96.33/c/ilimdb_sentiment_final/files/static/bts-rnc-train-andalso.tar.gz\n",
            "Connecting to 92.63.96.33:80... connected.\n",
            "HTTP request sent, awaiting response... 200 OK\n",
            "Length: 47247729 (45M) [application/x-tar]\n",
            "Saving to: ‘bts-rnc-train-andalso.tar.gz’\n",
            "\n",
            "bts-rnc-train-andal 100%[===================>]  45.06M  5.89MB/s    in 10s     \n",
            "\n",
            "2021-09-29 11:57:04 (4.45 MB/s) - ‘bts-rnc-train-andalso.tar.gz’ saved [47247729/47247729]\n",
            "\n",
            "xlm/russe_bts-rnc/train_1-limitNone-maxexperwordNone/modelNone-beamsearchFalse/<mask><mask>-(а-также-T)-2ltr2f_topk150_fixspacesTrue.npz\n",
            "xlm/russe_bts-rnc/train_1-limitNone-maxexperwordNone/modelNone-beamsearchFalse/<mask><mask>-(а-также-T)-2ltr2f_topk150_fixspacesTrue.npz.input\n",
            "xlm/russe_bts-rnc/train_1-limitNone-maxexperwordNone/modelNone-beamsearchFalse/T-(а-также-<mask><mask>)-2ltr2f_topk150_fixspacesTrue.npz\n",
            "xlm/russe_bts-rnc/train_1-limitNone-maxexperwordNone/modelNone-beamsearchFalse/T-(а-также-<mask><mask>)-2ltr2f_topk150_fixspacesTrue.npz.input\n",
            "xlm/russe_bts-rnc/train_1-limitNone-maxexperwordNone/modelNone/<mask><mask><mask><mask>-(а-также-T)-2ltr4f_topk150_fixspacesTrue.npz.input\n",
            "xlm/russe_bts-rnc/train_1-limitNone-maxexperwordNone/modelNone/<mask><mask><mask>-(а-также-T)-2ltr3f_topk150_fixspacesTrue.npz\n",
            "xlm/russe_bts-rnc/train_1-limitNone-maxexperwordNone/modelNone/<mask><mask><mask>-(а-также-T)-2ltr3f_topk150_fixspacesTrue.npz.input\n",
            "xlm/russe_bts-rnc/train_1-limitNone-maxexperwordNone/modelNone/<mask><mask>-(а-также-T)-2ltr2f_topk150_fixspacesTrue.npz\n",
            "xlm/russe_bts-rnc/train_1-limitNone-maxexperwordNone/modelNone/<mask><mask>-(а-также-T)-2ltr2f_topk150_fixspacesTrue.npz.input\n",
            "xlm/russe_bts-rnc/train_1-limitNone-maxexperwordNone/modelNone/<mask>-(а-также-T)-2ltr1f_topk150_fixspacesTrue.npz\n",
            "xlm/russe_bts-rnc/train_1-limitNone-maxexperwordNone/modelNone/<mask>-(а-также-T)-2ltr1f_topk150_fixspacesTrue.npz.input\n",
            "xlm/russe_bts-rnc/train_1-limitNone-maxexperwordNone/modelNone/T-(а-также-<mask>)-2ltr1f_topk150_fixspacesTrue.npz\n",
            "xlm/russe_bts-rnc/train_1-limitNone-maxexperwordNone/modelNone/T-(а-также-<mask>)-2ltr1f_topk150_fixspacesTrue.npz.input\n",
            "xlm/russe_bts-rnc/train_1-limitNone-maxexperwordNone/modelNone/T-(а-также-<mask><mask>)-2ltr2f_topk150_fixspacesTrue.npz\n",
            "xlm/russe_bts-rnc/train_1-limitNone-maxexperwordNone/modelNone/T-(а-также-<mask><mask>)-2ltr2f_topk150_fixspacesTrue.npz.input\n",
            "xlm/russe_bts-rnc/train_1-limitNone-maxexperwordNone/modelNone/T-(а-также-<mask><mask><mask>)-2ltr3f_topk150_fixspacesTrue.npz\n",
            "xlm/russe_bts-rnc/train_1-limitNone-maxexperwordNone/modelNone/T-(а-также-<mask><mask><mask>)-2ltr3f_topk150_fixspacesTrue.npz.input\n",
            "xlm/russe_bts-rnc/train_1-limitNone-maxexperwordNone/modelNone/T-(а-также-<mask><mask><mask><mask>)-2ltr4f_topk150_fixspacesTrue.npz.input\n"
          ]
        }
      ]
    },
    {
      "cell_type": "markdown",
      "metadata": {
        "id": "S7Amub3lbU3I"
      },
      "source": [
        "**Word sense induction (WSI)** is the problem of grouping occurrences of an ambiguous word according to the expressed sense of this word. Recently a new approach to this task was proposed, which generates possible substitutes for the ambiguous word in a particular context using neural language models, and then clusters sparse bag-of-words vectors built from these substitutes. Here we provide solution for the second part: clusterization of word usages using substitutes that were pregenerated based on the contexts.\n",
        "\n",
        "Algotithm:\n",
        "\n",
        "\n",
        "1.   Prepared substitutes for target words in certain contexts and their probabilities from `russe_bts-rnc` are used. Substitutes are words that could be used in the same context as the target word. Probabilities are probabilities of the particular substitution.  \n",
        "2.   Substitutions are lemmatized and vectorized.\n",
        "3.   BoW vectors are clustered using agglomerative clustering.\n",
        "4. MaxARI is calculated.\n"
      ]
    },
    {
      "cell_type": "markdown",
      "metadata": {
        "id": "poccX1ViQdeD"
      },
      "source": [
        "Here all necessary modules are imported.\n"
      ]
    },
    {
      "cell_type": "code",
      "metadata": {
        "id": "16zmbwcsrTJZ",
        "colab": {
          "base_uri": "https://localhost:8080/"
        },
        "outputId": "c03b2ef2-4fdb-458e-a149-fcb940769b39"
      },
      "source": [
        "!pip install pymorphy2"
      ],
      "execution_count": null,
      "outputs": [
        {
          "output_type": "stream",
          "name": "stdout",
          "text": [
            "Collecting pymorphy2\n",
            "  Downloading pymorphy2-0.9.1-py3-none-any.whl (55 kB)\n",
            "\u001b[?25l\r\u001b[K     |██████                          | 10 kB 22.3 MB/s eta 0:00:01\r\u001b[K     |███████████▉                    | 20 kB 11.3 MB/s eta 0:00:01\r\u001b[K     |█████████████████▊              | 30 kB 9.0 MB/s eta 0:00:01\r\u001b[K     |███████████████████████▋        | 40 kB 8.4 MB/s eta 0:00:01\r\u001b[K     |█████████████████████████████▌  | 51 kB 5.0 MB/s eta 0:00:01\r\u001b[K     |████████████████████████████████| 55 kB 2.1 MB/s \n",
            "\u001b[?25hRequirement already satisfied: docopt>=0.6 in /usr/local/lib/python3.7/dist-packages (from pymorphy2) (0.6.2)\n",
            "Collecting dawg-python>=0.7.1\n",
            "  Downloading DAWG_Python-0.7.2-py2.py3-none-any.whl (11 kB)\n",
            "Collecting pymorphy2-dicts-ru<3.0,>=2.4\n",
            "  Downloading pymorphy2_dicts_ru-2.4.417127.4579844-py2.py3-none-any.whl (8.2 MB)\n",
            "\u001b[K     |████████████████████████████████| 8.2 MB 10.6 MB/s \n",
            "\u001b[?25hInstalling collected packages: pymorphy2-dicts-ru, dawg-python, pymorphy2\n",
            "Successfully installed dawg-python-0.7.2 pymorphy2-0.9.1 pymorphy2-dicts-ru-2.4.417127.4579844\n"
          ]
        }
      ]
    },
    {
      "cell_type": "code",
      "metadata": {
        "id": "d3KQdy6IKCSm"
      },
      "source": [
        "import warnings\n",
        "warnings.simplefilter(action='ignore', category=FutureWarning)\n",
        "\n",
        "from collections import Counter\n",
        "import os\n",
        "from datetime import datetime\n",
        "import pandas as pd\n",
        "from sklearn.feature_extraction.text import CountVectorizer, TfidfVectorizer\n",
        "import numpy as np\n",
        "from pymorphy2 import MorphAnalyzer\n",
        "from pathlib import Path\n",
        "from time import time\n",
        "import regex as re\n",
        "from sklearn.feature_extraction import DictVectorizer\n",
        "from sklearn.naive_bayes import BernoulliNB\n",
        "from joblib import Memory\n",
        "from sklearn.metrics import adjusted_rand_score as ARI\n",
        "from sklearn.cluster import AgglomerativeClustering\n",
        "import sklearn.cluster.hierarchical\n",
        "from scipy.spatial.distance import cdist\n",
        "import seaborn as sns\n",
        "from sklearn.metrics import silhouette_score\n",
        "from google.colab import drive\n",
        "from tqdm.notebook import tqdm\n",
        "from IPython.display import display"
      ],
      "execution_count": null,
      "outputs": []
    },
    {
      "cell_type": "markdown",
      "metadata": {
        "id": "75vPtfAj4W02"
      },
      "source": [
        "## Data collection"
      ]
    },
    {
      "cell_type": "markdown",
      "metadata": {
        "id": "GwkXu06-qFdX"
      },
      "source": [
        "\n",
        "\n",
        "`substitutes_dump` – lists of substitutions with their probablities  \n",
        "`data_name` – dataset with target words and examples (contexts of word usages)"
      ]
    },
    {
      "cell_type": "code",
      "metadata": {
        "id": "SZyVgFCPE0Xz"
      },
      "source": [
        "substitutes_dump = '/content/xlm/russe_bts-rnc/train_1-limitNone-maxexperwordNone/modelNone-beamsearchFalse/<mask><mask>-(а-также-T)-2ltr2f_topk150_fixspacesTrue.npz&/content/xlm/russe_bts-rnc/train_1-limitNone-maxexperwordNone/modelNone-beamsearchFalse/T-(а-также-<mask><mask>)-2ltr2f_topk150_fixspacesTrue.npz&'\n",
        "data_name = '/content/summer-wsi/russe-wsi-kit/data/main/bts-rnc/train.csv'"
      ],
      "execution_count": null,
      "outputs": []
    },
    {
      "cell_type": "markdown",
      "metadata": {
        "id": "mwAP2NfYJUQJ"
      },
      "source": [
        "Function `load_substs` collects substitutions, probabilities and examples to one main DataFrame."
      ]
    },
    {
      "cell_type": "code",
      "metadata": {
        "id": "PDYdqCoK5ZZp"
      },
      "source": [
        "def load_substs(substs_fname, limit=None, drop_duplicates=False, \n",
        "                data_name = None, show=True):\n",
        "    '''\n",
        "    If more than one set of substitutes is used, this function combines them.\n",
        "    '''\n",
        "    if substs_fname.endswith('&'):\n",
        "        split = substs_fname.strip('&').split('&')\n",
        "        if show:\n",
        "            print(f'Combining:', split)\n",
        "        dfinps = [load_substs_(p, limit, drop_duplicates, data_name) \\\n",
        "                  for p in split]\n",
        "        res = dfinps[0]\n",
        "        nm = len(split[0].split('<mask>'))-1\n",
        "        for dfinp in dfinps[1:]:\n",
        "            res = res.merge(dfinp, on=['context','positions'], \\\n",
        "                            how='inner', suffixes=('','_y'))\n",
        "            res.substs_probs = intersect_sparse(res.substs_probs, \\\n",
        "                                                res.substs_probs_y, \\\n",
        "                                                nmasks=nm, s=0.0)        \n",
        "            res.drop(columns=[c for c in res.columns if c.endswith('_y')], \\\n",
        "                     inplace=True)\n",
        "        if show:\n",
        "            print('\\nExamples for one meaning:')\n",
        "            ex = res.loc[(res['word'] == 'балка') & \\\n",
        "                          (res['gold_sense_id'] == 1)].head(2)\n",
        "            print('\\nExample #1\\nword:', tuple(ex.word)[0],\n",
        "              '\\ngold_sense_id:', tuple(ex.gold_sense_id)[0],\n",
        "              '\\ncontext:', tuple(ex.context)[0], '\\nsubstitutes & probabilities:',\n",
        "              tuple(ex.substs_probs)[0])\n",
        "            print('\\nExample #2\\nword:', tuple(ex.word)[1],\n",
        "              '\\ngold_sense_id:', tuple(ex.gold_sense_id)[1],\n",
        "              '\\ncontext:', tuple(ex.context)[1], '\\nsubstitutes & probabilities:',\n",
        "              tuple(ex.substs_probs)[1])\n",
        "\n",
        "\n",
        "            print('\\nExamples for differrent menings:')\n",
        "            ex1 = res.loc[(res['word'] == 'балка') & \\\n",
        "                          (res['gold_sense_id'] == 1)].head(1)\n",
        "            ex2 = res.loc[(res['word'] == 'балка') & \\\n",
        "                          (res['gold_sense_id'] == 2)].head(1)\n",
        "            print('\\nExample #1\\nword:', tuple(ex1.word)[0],\n",
        "              '\\ngold_sense_id:', tuple(ex1.gold_sense_id)[0],\n",
        "              '\\ncontext:', tuple(ex1.context)[0], '\\nsubstitutes & probabilities:',\n",
        "              tuple(ex1.substs_probs)[0])\n",
        "            print('\\nExample #2\\nword:', tuple(ex2.word)[0],\n",
        "              '\\ngold_sense_id:', tuple(ex2.gold_sense_id)[0],\n",
        "              '\\ncontext:', tuple(ex2.context)[0], '\\nsubstitutes & probabilities:',\n",
        "              tuple(ex2.substs_probs)[0])\n",
        "        return res\n",
        "    elif substs_fname.endswith('+'): \n",
        "        split = substs_fname.strip('+').split('+') # комментарий\n",
        "        p1 = '+'.join(split[:-1])\n",
        "        s = float(split[-1]) \n",
        "        p2 = re.sub(r'((<mask>)+)(.*?)T',r'T\\3\\1',p1)\n",
        "        if p2==p1:\n",
        "            p2 =  re.sub(r'T(.*?)((<mask>)+)',r'\\2\\1T',p1)\n",
        "        print(f'Combining {p1} and {p2}')\n",
        "        if p1==p2:\n",
        "            raise Exception('Cannot conver fname to symmetric one:', p1)\n",
        "        dfinp1, dfinp2 = (load_substs_(p, limit, drop_duplicates, data_name) \\\n",
        "                          for p in (p1,p2))\n",
        "        dfinp = dfinp1.merge(dfinp2, on=['context','positions'], how='inner', \\\n",
        "                             suffixes=('','_y'))\n",
        "        dfinp.substs_probs = intersect_sparse(dfinp.substs_probs, \\\n",
        "                                              dfinp.substs_probs_y, \\\n",
        "                                              nmasks=len(substs_fname.split('<mask>'))-1, \\\n",
        "                                              s=s)\n",
        "        dfinp.drop(columns=[c for c in dfinp.columns if c.endswith('_y')], \\\n",
        "                   inplace=True)\n",
        "        return dfinp\n",
        "    else:\n",
        "        return load_substs_(substs_fname, limit, drop_duplicates, data_name)"
      ],
      "execution_count": null,
      "outputs": []
    },
    {
      "cell_type": "code",
      "metadata": {
        "id": "FcOmq5v-EmzU"
      },
      "source": [
        "def load_substs_(substs_fname, limit=None, drop_duplicates=True, data_name = None):\n",
        "    '''\n",
        "    Collects substitutions, probabilities and examples to one main DataFrame.\n",
        "    '''\n",
        "    st = time()\n",
        "    p = Path(substs_fname) \n",
        "    npz_filename_to_save = None\n",
        "    # print(time()-st, 'Loading substs from ', p)\n",
        "\n",
        "    # substitutions and probabilities\n",
        "    if substs_fname.endswith('.npz'): \n",
        "        arr_dict = np.load(substs_fname, allow_pickle=True)\n",
        "        # separate dictionaries for substitutions and probabilities\n",
        "        ss,pp = arr_dict['substs'], arr_dict['probs'] \n",
        "        ss,pp = [list(s) for s in ss], [list(p) for p in pp]\n",
        "        # creating a DataFrame\n",
        "        substs_probs = pd.DataFrame({'substs':ss, 'probs':pp}) \n",
        "        substs_probs = substs_probs.apply(lambda r: [(p,s) for s,p in zip(r.substs, r.probs)], axis=1) \n",
        "\n",
        "    # examword usages and contexts\n",
        "    p_ex = p.parent / (p.name+'.input')\n",
        "    if os.path.isfile(p_ex):\n",
        "        # print(time()-st,'Loading examples from ', p_ex)\n",
        "        dfinp = pd.read_csv(p_ex, nrows=limit)\n",
        "        dfinp['positions'] = dfinp['positions'].apply(pd.eval).apply(tuple)\n",
        "        dfinp['word_at'] = dfinp.apply(lambda r: r.context[slice(*r.positions)], \n",
        "                                       axis=1)  # word_at stores wordform as it occured in text\n",
        "\n",
        "    dfinp.positions = dfinp.positions.apply(tuple)\n",
        "    # adding substitutions and probabilities to main DF\n",
        "    dfinp['substs_probs'] = substs_probs \n",
        "    if drop_duplicates: # deleting duplicates\n",
        "        dfinp = dfinp.drop_duplicates('context')\n",
        "    dfinp.reset_index(inplace = True)\n",
        "    # display(dfinp)\n",
        "    dfinp['positions'] = dfinp.positions.apply(tuple)\n",
        "    return dfinp"
      ],
      "execution_count": null,
      "outputs": []
    },
    {
      "cell_type": "markdown",
      "metadata": {
        "id": "IjlILq56X369"
      },
      "source": [
        "Here we choose best substitutes for target word using substitutes for both templates by multiplication of probabilities. \n",
        "\n",
        "\\begin{align}\n",
        "\\mathcal{P}^{final} = P(s_i|Context, templ_1) \\cdot P(s_i|Context, templ_2)\n",
        "\\end{align} \n",
        "\n",
        "But we do not want to throw immediately the substitute if it is in only one set (generated for one template), so we use product of smoothed probability distributions as a final proba.  \n",
        "\n",
        "---\n",
        "Here we find smoothing rates.\n",
        "\n",
        "$\\alpha_{1,2}$ is to represent the proba of any substitution not inclided in the substitutes candidate set. This evenly (across all the possible $250000$ tokens) distributes the remainder calcilated as $1 - \\text{sum of all the known substitutes probas}$.\n",
        "\n",
        "\\begin{align}\n",
        "\\alpha_1 = \\frac{1 - \\sum_{i=1}^{n_{substs\\_probs_1}}P_{1i}}{ 250000^{n_{masks}}}\n",
        "\\end{align} \n",
        "\n",
        "\\begin{align}\n",
        "\\alpha_2 = \\frac{1 - \\sum_{i=1}^{n_{substs\\_probs_2}}P_{2i}}{ 250000^{n_{masks}}}\n",
        "\\end{align} \n",
        "\n",
        "---\n",
        "\n",
        "Then we find a smoothed probability for each substitute provided by context.\n",
        "\n",
        "\\begin{align}\n",
        "P(s_i|Context, templ_1) = \n",
        "    \\left\\{\n",
        "\\begin{array}{cl}\n",
        "P_{1i} + \\alpha_1 & s_i \\in substs\\_probs_1 \\\\\n",
        "\\alpha_1 & s_i \\notin substs\\_probs_1\n",
        "\\end{array}\n",
        "\\right.\n",
        "\\end{align}  \n",
        "\n",
        "\\begin{align}\n",
        "P(s_i|Context, templ_2) = \n",
        "    \\left\\{\n",
        "\\begin{array}{cl}\n",
        "P_{2i} + \\alpha_2 & s_i \\in substs\\_probs_2 \\\\\n",
        "\\alpha_2 & s_i \\notin substs\\_probs_2\n",
        "\\end{array}\n",
        "\\right.\n",
        "\\end{align}\n",
        "\n",
        "Product of smoothed probability distributions:\n",
        "\n",
        "\\begin{align}\n",
        "\\mathcal{P}^{final}_{i} = \n",
        "    \\left\\{\n",
        "\\begin{array}{cl}\n",
        "(P_{1i} + \\alpha_1) \\cdot (P2i + alpha2) & s_i \\in substs\\_probs_1 \\land s_i \\in substs\\_probs_2 \\\\\n",
        "(P_{1i} + \\alpha_1) \\cdot alpha2 & s_i \\in substs\\_probs_1 \\land s_i \\notin substs\\_probs_2 \\\\\n",
        "\\alpha_1 \\cdot (P_{2i} + \\alpha_2) & s_i \\notin substs\\_probs_1 \\land s_i \\in substs\\_probs_2 \\\\\n",
        "\\alpha_1 \\cdot \\alpha_2 & s_i \\notin substs\\_probs_1 \\land s_i \\notin substs\\_probs_2\n",
        "\\end{array}\n",
        "\\right.\n",
        "\\end{align} \n",
        "\n",
        "We get two matricies (for two templates) with a probability for the substitute if it is in the certain set or zero if it is not.\n",
        "\n",
        "\\begin{align}\n",
        "f_{1i} = \n",
        "    \\left\\{\n",
        "\\begin{array}{cl}\n",
        "P_{1i} & s_i \\in substs\\_probs_1 \\\\\n",
        "0 & s_i \\notin substs\\_probs_1\n",
        "\\end{array}\n",
        "\\right.\n",
        "\\end{align} \n",
        "\n",
        "\n",
        "\n",
        "\\begin{align}\n",
        "f_{2i} = \n",
        "    \\left\\{\n",
        "\\begin{array}{cl}\n",
        "P_{2i} & s_i \\in substs\\_probs_2 \\\\\n",
        "0 & s_i \\notin substs\\_probs_2\n",
        "\\end{array}\n",
        "\\right.\n",
        "\\end{align} \n",
        "\n",
        "Multiplication of the respective matricies ($\\forall i f_{1i} \\in F_1$) using product of smoothed probability distributions.\n",
        "\n",
        "\\begin{align}\n",
        "\\mathcal{P}^{final} = F_1 \\cdot F_2 + \\alpha_1 \\cdot F_2 + \\alpha_2 \\cdot F_1 + \\alpha_1 \\cdot \\alpha_2\n",
        "\\end{align} \n"
      ]
    },
    {
      "cell_type": "markdown",
      "metadata": {
        "id": "-K6mhkA8kXVJ"
      },
      "source": [
        "We do not use $\\alpha_1 \\cdot \\alpha_2$ **in code**, because probabilities for the substitutes that are not in both sets are too low, and we need to save memory resources.\n",
        "\n",
        "Owing to the size of the final matrix we use the sparse matrix.  \n",
        "Then we find substitutes with the highest probabilities."
      ]
    },
    {
      "cell_type": "code",
      "metadata": {
        "id": "eGM3jh84yoeH"
      },
      "source": [
        "def intersect_sparse(substs_probs, substs_probs_y, nmasks=1, s=0, debug=False):\n",
        "    '''\n",
        "    Combines different sets of substitutes (for different tamplates) using\n",
        "    product of smoothed probability distributions.\n",
        "    '''\n",
        "    \n",
        "    vec = DictVectorizer(sparse=True)\n",
        "    f1=substs_probs.apply(lambda l: {s:p for p,s in l})\n",
        "    f2=substs_probs_y.apply(lambda l: {s:p for p,s in l})\n",
        "    vec.fit(list(f1)+list(f2))\n",
        "    f1,f2 = (vec.transform(list(f)) for f in (f1,f2)) # sparse matrix\n",
        "\n",
        "    alpha1, alpha2 = ((1. - f.sum(axis=-1).reshape(-1,1)) / 250000**nmasks \\\n",
        "                      for f in (f1, f2))\n",
        "    prod = f1.multiply(f2) + f1.multiply(alpha2) + f2.multiply(alpha1)\n",
        "    # + alpha1*alpha2 is ignored to preserve sparsity \n",
        "    # finally, we don't want substs with 0 \n",
        "    # probs before smoothing in both distribs\n",
        "    fn = np.array(vec.feature_names_)\n",
        "    maxlen=(substs_probs_y.apply(len)+substs_probs.apply(len)).max()\n",
        "    m = prod\n",
        "    n_texts = m.shape[0]\n",
        "    \n",
        "    def reverse_argsort(mdata):\n",
        "        return np.argsort(mdata)[::-1]\n",
        "    \n",
        "    idx = list()\n",
        "    for text_ix in range(n_texts):\n",
        "      # sparce matrices are used to preserve high performance\n",
        "      # refer to https://docs.scipy.org/doc/scipy/reference/generated/scipy.sparse.csr_matrix.html\n",
        "      # to learn the sparse matrices indexing (i.e. what is `indptr` and `data`)\n",
        "      text_sparse_indices = m.indices[m.indptr[text_ix]:m.indptr[text_ix+1]]\n",
        "      text_sparse_data = m.data[m.indptr[text_ix]:m.indptr[text_ix+1]]\n",
        "      text_sp_data_revsorted_ixes = reverse_argsort(text_sparse_data)\n",
        "      smth = text_sparse_indices[text_sp_data_revsorted_ixes]\n",
        "      idx.append(smth)\n",
        "\n",
        "    l = list()\n",
        "    for text_ix, text_sparse_ixes_sorted in enumerate(idx):\n",
        "      probas = m[text_ix].toarray()[0,text_sparse_ixes_sorted]\n",
        "      substs = fn[text_sparse_ixes_sorted]\n",
        "      good_substs = list()\n",
        "      for proba, subst in zip(probas, substs):\n",
        "      \n",
        "        if subst.startswith(' ') and ' ' not in subst.strip():\n",
        "          good_substs.append((proba, subst))\n",
        "      l.append(good_substs)\n",
        " \n",
        "    print('Combination: ', l[0][:10])\n",
        "    return l\n"
      ],
      "execution_count": null,
      "outputs": []
    },
    {
      "cell_type": "markdown",
      "metadata": {
        "id": "42F1FEjrafGM"
      },
      "source": [
        "---"
      ]
    },
    {
      "cell_type": "code",
      "metadata": {
        "colab": {
          "base_uri": "https://localhost:8080/"
        },
        "id": "Nd2gLBwd4epA",
        "outputId": "f445567d-47bc-47f1-8968-df83362e9cab"
      },
      "source": [
        "substs1 = '/content/xlm/russe_bts-rnc/train_1-limitNone-maxexperwordNone/modelNone-beamsearchFalse/<mask><mask>-(а-также-T)-2ltr2f_topk150_fixspacesTrue.npz'\n",
        "df1 = load_substs(substs1, data_name=data_name)\n",
        "\n",
        "substs2 = '/content/xlm/russe_bts-rnc/train_1-limitNone-maxexperwordNone/modelNone-beamsearchFalse/T-(а-также-<mask><mask>)-2ltr2f_topk150_fixspacesTrue.npz'\n",
        "df2 = load_substs(substs2, data_name=data_name)\n",
        "\n",
        "substs3 = '/content/xlm/russe_bts-rnc/train_1-limitNone-maxexperwordNone/modelNone-beamsearchFalse/<mask><mask>-(а-также-T)-2ltr2f_topk150_fixspacesTrue.npz&/content/xlm/russe_bts-rnc/train_1-limitNone-maxexperwordNone/modelNone-beamsearchFalse/T-(а-также-<mask><mask>)-2ltr2f_topk150_fixspacesTrue.npz&'\n",
        "df3 = load_substs(substs3, data_name=data_name, show=False)"
      ],
      "execution_count": null,
      "outputs": [
        {
          "output_type": "stream",
          "name": "stdout",
          "text": [
            "Combination:  [(0.0003074132201598033, ' решетку'), (4.1475361323760285e-05, ' поверхность'), (3.976416282017758e-05, ' опору'), (2.2270818190058624e-05, ' трубу'), (2.102492416240878e-05, ' мебель'), (9.649139098880059e-06, ' спинку'), (9.437091495716981e-06, ' балку'), (8.321624868184736e-06, ' доску'), (8.03497520660322e-06, ' раму'), (7.317509182332922e-06, ' панель')]\n"
          ]
        }
      ]
    },
    {
      "cell_type": "markdown",
      "metadata": {
        "id": "63JFvQyw4fFR"
      },
      "source": [
        "As you can see below, combination of substitutes improves their quality and they fit context better."
      ]
    },
    {
      "cell_type": "code",
      "metadata": {
        "colab": {
          "base_uri": "https://localhost:8080/"
        },
        "cellView": "code",
        "id": "BC6w6WfR-L0s",
        "outputId": "91dd3a00-e955-405a-8cd9-19644b7d7fb5"
      },
      "source": [
        "i = 555\n",
        "print('word:', df1.loc[i, 'word'])\n",
        "print('context:', df1.loc[i, 'context'])\n",
        "print('<mask><mask> (а также T) - substitutes:', \n",
        "      [sub[1] for sub in df1.loc[i, 'substs_probs']][:7])\n",
        "print('T (а также <mask><mask>) - substitutes:',\n",
        "      [sub[1] for sub in df2.loc[i, 'substs_probs']][:7])\n",
        "print('both templates - substitutes:',\n",
        "      [sub[1] for sub in df3.loc[i, 'substs_probs']][:7])"
      ],
      "execution_count": null,
      "outputs": [
        {
          "output_type": "stream",
          "name": "stdout",
          "text": [
            "word: жаба\n",
            "context: , не заметил, не прочел. Грязнуха-ревность, подпрыгивая с утра до ночи, как жаба, превращала его в безумца. Однажды ночью, впрочем, открыл, когда выпиты были все\n",
            "<mask><mask> (а также T) - substitutes: [' птица', ' собака', ' сова', ' рыба', ' козел', ' волчица', ' комар']\n",
            "T (а также <mask><mask>) - substitutes: [' алкоголизм', ' курица', ' как ветер', ' рыба', ' сигареты', ' наркотики', ' нервы']\n",
            "both templates - substitutes: [' собака', ' рыба', ' птица', ' курица', ' козел', ' волк', ' лошадь']\n"
          ]
        }
      ]
    },
    {
      "cell_type": "markdown",
      "metadata": {
        "id": "W98hiI2KGLJ9"
      },
      "source": [
        "Here we see that substitutes for one meaning are similar and for different meanings are more different.\n"
      ]
    },
    {
      "cell_type": "code",
      "metadata": {
        "colab": {
          "base_uri": "https://localhost:8080/"
        },
        "id": "yjUsU94iN1JF",
        "outputId": "34dea8f5-0745-473c-b55a-5ad9c5dbb479"
      },
      "source": [
        "df = load_substs(substitutes_dump, data_name=data_name)"
      ],
      "execution_count": null,
      "outputs": [
        {
          "output_type": "stream",
          "name": "stdout",
          "text": [
            "Combining: ['/content/xlm/russe_bts-rnc/train_1-limitNone-maxexperwordNone/modelNone-beamsearchFalse/<mask><mask>-(а-также-T)-2ltr2f_topk150_fixspacesTrue.npz', '/content/xlm/russe_bts-rnc/train_1-limitNone-maxexperwordNone/modelNone-beamsearchFalse/T-(а-также-<mask><mask>)-2ltr2f_topk150_fixspacesTrue.npz']\n",
            "Combination:  [(0.0003074132201598033, ' решетку'), (4.1475361323760285e-05, ' поверхность'), (3.976416282017758e-05, ' опору'), (2.2270818190058624e-05, ' трубу'), (2.102492416240878e-05, ' мебель'), (9.649139098880059e-06, ' спинку'), (9.437091495716981e-06, ' балку'), (8.321624868184736e-06, ' доску'), (8.03497520660322e-06, ' раму'), (7.317509182332922e-06, ' панель')]\n",
            "\n",
            "Examples for one meaning:\n",
            "\n",
            "Example #1\n",
            "word: балка \n",
            "gold_sense_id: 1 \n",
            "context: маленькой комнаты. Он был очень высок, наклонил голову, словно подпирая плечом потолочную балку, посмотрел на Сьянову серьезными черными глазами. -- Я из Москвы. Буду испытывать здесь \n",
            "substitutes & probabilities: [(0.0003074132201598033, ' решетку'), (4.1475361323760285e-05, ' поверхность'), (3.976416282017758e-05, ' опору'), (2.2270818190058624e-05, ' трубу'), (2.102492416240878e-05, ' мебель'), (9.649139098880059e-06, ' спинку'), (9.437091495716981e-06, ' балку'), (8.321624868184736e-06, ' доску'), (8.03497520660322e-06, ' раму'), (7.317509182332922e-06, ' панель'), (5.585483663846113e-06, ' коробку'), (5.49844362694596e-06, ' щель'), (5.211723216924868e-06, ' палку'), (3.8057957598132164e-06, ' плотину'), (3.767456401386647e-06, ' стул'), (3.3928134681336975e-06, ' кровать'), (1.6089072738170948e-06, ' ручку'), (1.5056553108295944e-06, ' дорожку'), (8.254706275536603e-07, ' сетку'), (6.208307872062609e-07, ' ширму'), (4.557973551397005e-07, ' кисть'), (2.951072363964518e-07, ' жену'), (2.518606899224717e-07, ' бегу'), (2.0063051541493482e-07, ' сидение'), (9.938894122853198e-08, ' корочку'), (8.03326537191543e-08, ' маску'), (1.8248128080128103e-12, ' плиту'), (8.41099312765252e-13, ' стенку'), (2.934104405592628e-13, ' планку'), (2.2066437163684637e-13, ' стены'), (2.2047689113735633e-13, ' ободу'), (1.0729192277594875e-13, ' плечо'), (1.0554165446262951e-13, ' нишу'), (1.0170868983730731e-13, ' педаль'), (9.808705446751057e-14, ' линию'), (9.712436172702634e-14, ' плату'), (9.028993360756167e-14, ' полку'), (8.86523350521059e-14, ' лампу'), (8.697176344977604e-14, ' крышу'), (8.232608122930752e-14, ' столовую'), (7.72328116115141e-14, ' кресло'), (6.726979662031334e-14, ' розу'), (5.856280848517056e-14, ' стонку'), (5.624704875115189e-14, ' вилку'), (5.586427186839064e-14, ' крышку'), (5.225361250711231e-14, ' колонну'), (4.880267108909595e-14, ' обои'), (4.6590119951977434e-14, ' полочку'), (4.322381831778121e-14, ' пробку'), (3.85181742664259e-14, ' подставку'), (3.839210996892096e-14, ' кровлю'), (3.804255331826452e-14, ' накладку'), (2.7025364222136006e-14, ' плоть'), (2.5564949824973562e-14, ' столик'), (2.542267065217244e-14, ' проставку'), (2.2932578499098363e-14, ' порог'), (2.2072724578507225e-14, ' дерево'), (2.0858669159996275e-14, ' петлю'), (1.8924383159572778e-14, ' стекло'), (1.5877378452117648e-14, ' настил'), (1.4758453370748532e-14, ' стекла'), (1.4482758774088176e-14, ' арку'), (1.3768236143012535e-14, ' табличку'), (1.3353856437055641e-14, ' полосу'), (1.3345575349097958e-14, ' шахту'), (1.3189684909453652e-14, ' подушки'), (1.300594002394505e-14, ' жижу'), (1.2947596877167795e-14, ' дугу'), (1.2858006708229723e-14, ' ковер'), (1.2684476293593837e-14, ' клетку'), (1.1933264036727887e-14, ' шею'), (1.1777397851603219e-14, ' угол'), (1.1663060309531537e-14, ' шторку'), (1.0830406042919157e-14, ' кровати'), (1.074675893866241e-14, ' ступеньки'), (1.0725839761861041e-14, ' крошку'), (1.0713973176559637e-14, ' камни'), (1.0651188589645574e-14, ' ногами'), (1.0607034970822112e-14, ' пластину'), (1.0467609072265127e-14, ' пленку'), (1.0390882324645953e-14, ' шторы'), (1.0274176326469309e-14, ' грелку'), (9.301514891060416e-15, ' резину'), (9.134577354794314e-15, ' колено'), (8.724793901041585e-15, ' грань'), (8.697113037628522e-15, ' чашу'), (8.093061483948024e-15, ' половую'), (8.072368079435316e-15, ' матрац'), (8.000385545796861e-15, ' горло'), (7.875265759021597e-15, ' здание'), (7.815953343782643e-15, ' проводку'), (7.759327481200059e-15, ' заставку'), (7.451475855911e-15, ' плитку'), (7.309665528430343e-15, ' диванчик'), (7.020076870866634e-15, ' свечу'), (6.936244980514048e-15, ' основу'), (6.894067362089746e-15, ' матку'), (6.836453019538678e-15, ' столбу'), (6.7722486202924085e-15, ' гладь'), (6.701017566674327e-15, ' разводку'), (6.651197593114372e-15, ' крыло'), (6.640535947355554e-15, ' пятку'), (6.637777677328022e-15, ' капель'), (6.62601031807305e-15, ' шкафы'), (6.537032050055114e-15, ' цедру'), (6.517469910610266e-15, ' кухню'), (6.178526706503619e-15, ' ведро'), (6.17727337496932e-15, ' стенами'), (6.085803500192241e-15, ' вышку'), (5.9472161796228514e-15, ' поясницу'), (5.855634341526122e-15, ' вежу'), (5.765741448133522e-15, ' вставку'), (5.746672117194167e-15, ' шайбу'), (5.7101863727352116e-15, ' спиной'), (5.6938084139373606e-15, ' звезду'), (5.440025202447403e-15, ' балконную'), (5.2950269447117835e-15, ' утку'), (5.2879300753818e-15, ' бревно'), (5.2442286623591026e-15, ' спираль'), (5.1882151449524654e-15, ' печку'), (5.163414564045728e-15, ' входную'), (5.108185397042999e-15, ' череду'), (4.659519932363997e-15, ' точку'), (4.645770201286605e-15, ' мыло'), (4.612365956500205e-15, ' шкуру'), (4.552965843844409e-15, ' стальную'), (4.474308757617037e-15, ' одеяла'), (4.359518259434745e-15, ' панду'), (4.160163194566777e-15, ' группу'), (4.088091932141864e-15, ' окошко'), (4.071811519508411e-15, ' краину'), (4.024553958705658e-15, ' ступень'), (4.00863868928237e-15, ' тягу'), (3.962151605700911e-15, ' подарку'), (3.9568248149723285e-15, ' сцену'), (3.940822799712446e-15, ' массу'), (3.928876003418982e-15, ' волну'), (3.915865107298013e-15, ' перешку'), (3.814050814470262e-15, ' стружку'), (3.762341636098234e-15, ' старую'), (3.74360909748324e-15, ' лифтовую'), (3.6826043805087525e-15, ' драку'), (3.664236744789519e-15, ' железку'), (3.556938442713982e-15, ' перекладину'), (3.519670520228133e-15, ' пятно'), (3.512214277603108e-15, ' брался'), (3.502350416183738e-15, ' замок'), (3.471075089054341e-15, ' перину'), (3.3518673725779125e-15, ' партию'), (3.3004056329715573e-15, ' росу'), (3.2932782472403706e-15, ' скалу'), (3.280327561648659e-15, ' осень'), (3.234873463144065e-15, ' ленту'), (3.2126617189306802e-15, ' огород'), (3.1843882184719342e-15, ' оптику'), (3.151137453065558e-15, ' площадку'), (3.0935420132164204e-15, ' холл'), (3.053992472513877e-15, ' бумагу'), (3.046393777684449e-15, ' шлем'), (3.01395418270497e-15, ' секцию'), (2.8859122874289595e-15, ' нить'), (2.8729716564839905e-15, ' гущу'), (2.8460415698599252e-15, ' пену'), (2.763449837458656e-15, ' карниз'), (2.7606779148576833e-15, ' соседей'), (2.7592645000169445e-15, ' ставню'), (2.7068388212265425e-15, ' штуку'), (2.6957081486945864e-15, ' систему'), (2.6946226470201887e-15, ' книжку'), (2.668039270315785e-15, ' качель'), (2.628952649298707e-15, ' емкость'), (2.609074613904766e-15, ' кривую'), (2.5733903158277105e-15, ' разницу'), (2.459918385800607e-15, ' дыры'), (2.445490848712525e-15, ' кран'), (2.4392784546593706e-15, ' палец'), (2.431738339835927e-15, ' эмаль'), (2.400023941678488e-15, ' катку'), (2.386807730506328e-15, ' трость'), (2.353816680175683e-15, ' колеса'), (2.2518390095446617e-15, ' борт'), (2.2352303910980263e-15, ' поручни'), (2.2212648850127106e-15, ' дрова'), (2.1700150115061045e-15, ' полину'), (2.1272352539748803e-15, ' направляющую'), (2.1094014141314926e-15, ' реку'), (2.0902076671222012e-15, ' ширину'), (2.070052727115449e-15, ' колонны'), (2.0650465144833073e-15, ' раску'), (1.9763111756496445e-15, ' дну'), (1.9726949713886528e-15, ' маски'), (1.89803271061728e-15, ' педали'), (1.8917099602407554e-15, ' шину'), (1.8186080270896315e-15, ' куст'), (1.8134993363140266e-15, ' кучу'), (1.7664807628015757e-15, ' пинку'), (1.7660504430000531e-15, ' пару'), (1.7585573710449599e-15, ' лавку'), (1.6904106089220757e-15, ' деревню'), (1.66834744496039e-15, ' лепку'), (1.6171349655308454e-15, ' каску'), (1.5358800002231195e-15, ' спонку'), (1.5343046816128374e-15, ' гиру'), (1.52798129192992e-15, ' соску'), (1.4911156119043872e-15, ' крепкость'), (1.4530997966268406e-15, ' листу'), (1.4489974493204868e-15, ' белье'), (1.4247620391931528e-15, ' ношу'), (1.4165276072616964e-15, ' тумб'), (1.4018043014247915e-15, ' отсек'), (1.267525026606095e-15, ' пламя'), (1.2346424592618637e-15, ' ножку'), (1.2025660754318655e-15, ' ребра'), (1.1551507364581582e-15, ' листы'), (1.1394639344556135e-15, ' прямотку'), (1.0456935971219737e-15, ' коленку'), (1.0050778854839018e-15, ' копию'), (9.863571906304287e-16, ' смязку'), (9.360668432812877e-16, ' сопли'), (7.950221333089195e-16, ' ямы'), (7.468822038102074e-16, ' тортик'), (7.376383569135058e-16, ' рта'), (6.065072244502179e-16, ' шну'), (5.71708443765507e-16, ' пилку'), (4.643361823317966e-16, ' ограждения')]\n",
            "\n",
            "Example #2\n",
            "word: балка \n",
            "gold_sense_id: 1 \n",
            "context: Пантюхин в Склифе сейчас. Он выползти на улицу успел, а на Золоткова балка обрушилась. Эх, душой компании парень был! 28-летний Геннадий так и не \n",
            "substitutes & probabilities: [(0.020003307469640956, ' крыша'), (0.0001694636908407752, ' плита'), (7.157191885023099e-05, ' здание'), (7.113804858050237e-05, ' труба'), (2.7772886507730534e-05, ' стена'), (1.3841349338151593e-05, ' горка'), (1.1301936525435628e-05, ' стекло'), (5.553581211036631e-06, ' дорожка'), (5.3581456551647866e-06, ' кровать'), (4.0366101117087256e-06, ' коробка'), (3.893923839228803e-06, ' дамба'), (3.848943037469179e-06, ' лавка'), (2.4744016645045234e-06, ' панель'), (2.4561069141586353e-06, ' палатка'), (1.7955346926381483e-06, ' одежда'), (1.7286728577951439e-06, ' свеча'), (1.3793638407450904e-06, ' ограждения'), (1.264627112239044e-06, ' палка'), (1.0570522852213854e-06, ' батарея'), (8.553321027826766e-07, ' спина'), (8.127501112475047e-07, ' куча'), (7.909578807865345e-07, ' печь'), (7.595470891241159e-07, ' охрана'), (7.113906692960504e-07, ' куртка'), (7.057601327836274e-07, ' доска'), (6.029395781831292e-07, ' плеча'), (4.573289977613904e-07, ' поверхность'), (4.5581460912248413e-07, ' котельная'), (3.956920400752813e-07, ' ванна'), (3.638168430633302e-07, ' стрела'), (3.1474465439910924e-07, ' скала'), (2.9455485692813597e-07, ' трещина'), (2.694004586318427e-07, ' корова'), (2.6092868130253754e-07, ' карета'), (2.2309333069291274e-07, ' туча'), (1.9361540543975885e-07, ' блокировка'), (1.9027662680821975e-07, ' парус'), (1.6144611953520892e-07, ' матушка'), (1.3798262003175905e-07, ' ребра'), (1.1998819944058954e-07, ' плотина'), (5.6004277812938e-08, ' танка'), (4.922326593313768e-08, ' домовая'), (3.788300688397906e-13, ' деревня'), (1.4416249507158742e-13, ' веранда'), (1.1457104114772741e-13, ' столба'), (8.770416766786863e-14, ' колонна'), (8.265653319055049e-14, ' башня'), (5.621638267609565e-14, ' обочина'), (4.902611095581341e-14, ' комната'), (4.809600864539155e-14, ' рампа'), (4.684455512234316e-14, ' дерево'), (3.94901976338176e-14, ' беседка'), (3.783638931668091e-14, ' мебель'), (3.595180000090995e-14, ' свалка'), (2.862649944468374e-14, ' кровля'), (2.475822137091945e-14, ' заря'), (2.4270745544745903e-14, ' ферма'), (2.146734113430651e-14, ' строчка'), (2.0721391745708896e-14, ' леска'), (1.9859586811893692e-14, ' домика'), (1.9282118035537188e-14, ' подушка'), (1.7414498278947915e-14, ' столовая'), (1.602256139906676e-14, ' щель'), (1.5875886710276646e-14, ' ветра'), (1.5533873037960673e-14, ' стойка'), (1.4901338360447748e-14, ' шахта'), (1.3512497170384703e-14, ' купола'), (1.2795128399330306e-14, ' вагонка'), (1.2086969901745087e-14, ' возня'), (1.1936850720438045e-14, ' сетка'), (1.1736683929894748e-14, ' камня'), (1.122435179444858e-14, ' пила'), (1.094596729743049e-14, ' домик'), (1.0619255481906992e-14, ' тропа'), (1.051618344419598e-14, ' сумка'), (9.544387929633759e-15, ' трибуна'), (9.102851441801779e-15, ' бутылка'), (9.05700800275607e-15, ' решетка'), (8.741635286197941e-15, ' трава'), (8.50110014685498e-15, ' черепица'), (8.280502208382797e-15, ' тишина'), (7.837541390287974e-15, ' длина'), (7.754861089836318e-15, ' тоска'), (7.670783681149823e-15, ' капля'), (7.3339571097885e-15, ' дыра'), (7.05287679263944e-15, ' мусор'), (7.0060774172549985e-15, ' елка'), (6.9276048213269255e-15, ' водителя'), (6.828126421125811e-15, ' пирамида'), (6.718370333862496e-15, ' талона'), (6.717006724696755e-15, ' урна'), (6.660286889109059e-15, ' веревка'), (6.64069453159667e-15, ' драка'), (6.614288087419008e-15, ' погода'), (6.603108576065829e-15, ' железка'), (6.443181646870458e-15, ' лифты'), (6.338272161046126e-15, ' молния'), (6.143017910459755e-15, ' мастерская'), (6.105968596879015e-15, ' тележка'), (6.102553662364233e-15, ' опора'), (5.948501187053805e-15, ' собаку'), (5.897421778291056e-15, ' снега'), (5.870933216468978e-15, ' балконка'), (5.664264938075361e-15, ' грузовик'), (5.621461050965578e-15, ' весна'), (5.546637924329237e-15, ' крылья'), (5.525872442553836e-15, ' кривая'), (5.413025627168244e-15, ' забор'), (5.378337317945832e-15, ' полицейских'), (5.220136291540305e-15, ' цеха'), (5.114096630413677e-15, ' композиция'), (4.878905249436749e-15, ' ветка'), (4.824884967905819e-15, ' камень'), (4.801758785011505e-15, ' граната'), (4.7156150223727524e-15, ' балка'), (4.666196013315504e-15, ' бретка'), (4.654702628856364e-15, ' мостовая'), (4.573337579035459e-15, ' проводка'), (4.50360926670262e-15, ' навала'), (4.480678497058786e-15, ' роща'), (4.36877983432213e-15, ' машинка'), (4.291071343040039e-15, ' подвал'), (3.9793407823057635e-15, ' соседей'), (3.946130238776264e-15, ' изба'), (3.829767609610722e-15, ' колода'), (3.6423426169487486e-15, ' брама'), (3.538168935923632e-15, ' дрова'), (3.4979545962485407e-15, ' камни'), (3.41172120831736e-15, ' бабушку'), (3.255829628455862e-15, ' дождь'), (3.2229740109013722e-15, ' консоль'), (3.014185479553878e-15, ' шквал'), (2.9232630944144983e-15, ' забарка'), (2.818696805336092e-15, ' балконы'), (2.8173649410345244e-15, ' пассажиров'), (2.802005312488607e-15, ' колесо'), (2.7368255142723085e-15, ' газон'), (2.6422050004377264e-15, ' буря'), (2.527716267564581e-15, ' соска'), (2.5076753658304952e-15, ' крыло'), (2.4691594021434134e-15, ' пешка'), (2.4447967115066537e-15, ' чердак'), (2.4408678943210134e-15, ' конь'), (2.377109871855473e-15, ' бамба'), (2.352213495068827e-15, ' переправа'), (2.335712576158827e-15, ' чулка'), (2.3177283381743883e-15, ' полка'), (2.2787098048061287e-15, ' лба'), (2.125295918451729e-15, ' строители'), (2.0910793111694557e-15, ' вагоны'), (2.0612405808612648e-15, ' пломба'), (1.9179342978883073e-15, ' старушка'), (1.8543216117442336e-15, ' фигурка'), (1.8247846100257906e-15, ' ручка'), (1.805336631979628e-15, ' обои'), (1.7634113596333293e-15, ' самокат'), (1.7444425655851752e-15, ' пожарная'), (1.6280013130236033e-15, ' гаражи'), (1.4364303673058732e-15, ' дворник'), (1.3709735799196113e-15, ' пекло'), (1.262595052617699e-15, ' леса'), (1.2028616658116492e-15, ' дорога,'), (1.099616120945651e-15, ' сосна'), (9.073148213799418e-16, ' черепах'), (8.55647655110196e-16, ' асфальтовая'), (7.265782418998018e-16, ' полная'), (6.639853246815567e-16, ' крепление'), (5.513101476484426e-16, ' торпед'), (5.080770361963476e-16, ' отель')]\n",
            "\n",
            "Examples for differrent menings:\n",
            "\n",
            "Example #1\n",
            "word: балка \n",
            "gold_sense_id: 1 \n",
            "context: маленькой комнаты. Он был очень высок, наклонил голову, словно подпирая плечом потолочную балку, посмотрел на Сьянову серьезными черными глазами. -- Я из Москвы. Буду испытывать здесь \n",
            "substitutes & probabilities: [(0.0003074132201598033, ' решетку'), (4.1475361323760285e-05, ' поверхность'), (3.976416282017758e-05, ' опору'), (2.2270818190058624e-05, ' трубу'), (2.102492416240878e-05, ' мебель'), (9.649139098880059e-06, ' спинку'), (9.437091495716981e-06, ' балку'), (8.321624868184736e-06, ' доску'), (8.03497520660322e-06, ' раму'), (7.317509182332922e-06, ' панель'), (5.585483663846113e-06, ' коробку'), (5.49844362694596e-06, ' щель'), (5.211723216924868e-06, ' палку'), (3.8057957598132164e-06, ' плотину'), (3.767456401386647e-06, ' стул'), (3.3928134681336975e-06, ' кровать'), (1.6089072738170948e-06, ' ручку'), (1.5056553108295944e-06, ' дорожку'), (8.254706275536603e-07, ' сетку'), (6.208307872062609e-07, ' ширму'), (4.557973551397005e-07, ' кисть'), (2.951072363964518e-07, ' жену'), (2.518606899224717e-07, ' бегу'), (2.0063051541493482e-07, ' сидение'), (9.938894122853198e-08, ' корочку'), (8.03326537191543e-08, ' маску'), (1.8248128080128103e-12, ' плиту'), (8.41099312765252e-13, ' стенку'), (2.934104405592628e-13, ' планку'), (2.2066437163684637e-13, ' стены'), (2.2047689113735633e-13, ' ободу'), (1.0729192277594875e-13, ' плечо'), (1.0554165446262951e-13, ' нишу'), (1.0170868983730731e-13, ' педаль'), (9.808705446751057e-14, ' линию'), (9.712436172702634e-14, ' плату'), (9.028993360756167e-14, ' полку'), (8.86523350521059e-14, ' лампу'), (8.697176344977604e-14, ' крышу'), (8.232608122930752e-14, ' столовую'), (7.72328116115141e-14, ' кресло'), (6.726979662031334e-14, ' розу'), (5.856280848517056e-14, ' стонку'), (5.624704875115189e-14, ' вилку'), (5.586427186839064e-14, ' крышку'), (5.225361250711231e-14, ' колонну'), (4.880267108909595e-14, ' обои'), (4.6590119951977434e-14, ' полочку'), (4.322381831778121e-14, ' пробку'), (3.85181742664259e-14, ' подставку'), (3.839210996892096e-14, ' кровлю'), (3.804255331826452e-14, ' накладку'), (2.7025364222136006e-14, ' плоть'), (2.5564949824973562e-14, ' столик'), (2.542267065217244e-14, ' проставку'), (2.2932578499098363e-14, ' порог'), (2.2072724578507225e-14, ' дерево'), (2.0858669159996275e-14, ' петлю'), (1.8924383159572778e-14, ' стекло'), (1.5877378452117648e-14, ' настил'), (1.4758453370748532e-14, ' стекла'), (1.4482758774088176e-14, ' арку'), (1.3768236143012535e-14, ' табличку'), (1.3353856437055641e-14, ' полосу'), (1.3345575349097958e-14, ' шахту'), (1.3189684909453652e-14, ' подушки'), (1.300594002394505e-14, ' жижу'), (1.2947596877167795e-14, ' дугу'), (1.2858006708229723e-14, ' ковер'), (1.2684476293593837e-14, ' клетку'), (1.1933264036727887e-14, ' шею'), (1.1777397851603219e-14, ' угол'), (1.1663060309531537e-14, ' шторку'), (1.0830406042919157e-14, ' кровати'), (1.074675893866241e-14, ' ступеньки'), (1.0725839761861041e-14, ' крошку'), (1.0713973176559637e-14, ' камни'), (1.0651188589645574e-14, ' ногами'), (1.0607034970822112e-14, ' пластину'), (1.0467609072265127e-14, ' пленку'), (1.0390882324645953e-14, ' шторы'), (1.0274176326469309e-14, ' грелку'), (9.301514891060416e-15, ' резину'), (9.134577354794314e-15, ' колено'), (8.724793901041585e-15, ' грань'), (8.697113037628522e-15, ' чашу'), (8.093061483948024e-15, ' половую'), (8.072368079435316e-15, ' матрац'), (8.000385545796861e-15, ' горло'), (7.875265759021597e-15, ' здание'), (7.815953343782643e-15, ' проводку'), (7.759327481200059e-15, ' заставку'), (7.451475855911e-15, ' плитку'), (7.309665528430343e-15, ' диванчик'), (7.020076870866634e-15, ' свечу'), (6.936244980514048e-15, ' основу'), (6.894067362089746e-15, ' матку'), (6.836453019538678e-15, ' столбу'), (6.7722486202924085e-15, ' гладь'), (6.701017566674327e-15, ' разводку'), (6.651197593114372e-15, ' крыло'), (6.640535947355554e-15, ' пятку'), (6.637777677328022e-15, ' капель'), (6.62601031807305e-15, ' шкафы'), (6.537032050055114e-15, ' цедру'), (6.517469910610266e-15, ' кухню'), (6.178526706503619e-15, ' ведро'), (6.17727337496932e-15, ' стенами'), (6.085803500192241e-15, ' вышку'), (5.9472161796228514e-15, ' поясницу'), (5.855634341526122e-15, ' вежу'), (5.765741448133522e-15, ' вставку'), (5.746672117194167e-15, ' шайбу'), (5.7101863727352116e-15, ' спиной'), (5.6938084139373606e-15, ' звезду'), (5.440025202447403e-15, ' балконную'), (5.2950269447117835e-15, ' утку'), (5.2879300753818e-15, ' бревно'), (5.2442286623591026e-15, ' спираль'), (5.1882151449524654e-15, ' печку'), (5.163414564045728e-15, ' входную'), (5.108185397042999e-15, ' череду'), (4.659519932363997e-15, ' точку'), (4.645770201286605e-15, ' мыло'), (4.612365956500205e-15, ' шкуру'), (4.552965843844409e-15, ' стальную'), (4.474308757617037e-15, ' одеяла'), (4.359518259434745e-15, ' панду'), (4.160163194566777e-15, ' группу'), (4.088091932141864e-15, ' окошко'), (4.071811519508411e-15, ' краину'), (4.024553958705658e-15, ' ступень'), (4.00863868928237e-15, ' тягу'), (3.962151605700911e-15, ' подарку'), (3.9568248149723285e-15, ' сцену'), (3.940822799712446e-15, ' массу'), (3.928876003418982e-15, ' волну'), (3.915865107298013e-15, ' перешку'), (3.814050814470262e-15, ' стружку'), (3.762341636098234e-15, ' старую'), (3.74360909748324e-15, ' лифтовую'), (3.6826043805087525e-15, ' драку'), (3.664236744789519e-15, ' железку'), (3.556938442713982e-15, ' перекладину'), (3.519670520228133e-15, ' пятно'), (3.512214277603108e-15, ' брался'), (3.502350416183738e-15, ' замок'), (3.471075089054341e-15, ' перину'), (3.3518673725779125e-15, ' партию'), (3.3004056329715573e-15, ' росу'), (3.2932782472403706e-15, ' скалу'), (3.280327561648659e-15, ' осень'), (3.234873463144065e-15, ' ленту'), (3.2126617189306802e-15, ' огород'), (3.1843882184719342e-15, ' оптику'), (3.151137453065558e-15, ' площадку'), (3.0935420132164204e-15, ' холл'), (3.053992472513877e-15, ' бумагу'), (3.046393777684449e-15, ' шлем'), (3.01395418270497e-15, ' секцию'), (2.8859122874289595e-15, ' нить'), (2.8729716564839905e-15, ' гущу'), (2.8460415698599252e-15, ' пену'), (2.763449837458656e-15, ' карниз'), (2.7606779148576833e-15, ' соседей'), (2.7592645000169445e-15, ' ставню'), (2.7068388212265425e-15, ' штуку'), (2.6957081486945864e-15, ' систему'), (2.6946226470201887e-15, ' книжку'), (2.668039270315785e-15, ' качель'), (2.628952649298707e-15, ' емкость'), (2.609074613904766e-15, ' кривую'), (2.5733903158277105e-15, ' разницу'), (2.459918385800607e-15, ' дыры'), (2.445490848712525e-15, ' кран'), (2.4392784546593706e-15, ' палец'), (2.431738339835927e-15, ' эмаль'), (2.400023941678488e-15, ' катку'), (2.386807730506328e-15, ' трость'), (2.353816680175683e-15, ' колеса'), (2.2518390095446617e-15, ' борт'), (2.2352303910980263e-15, ' поручни'), (2.2212648850127106e-15, ' дрова'), (2.1700150115061045e-15, ' полину'), (2.1272352539748803e-15, ' направляющую'), (2.1094014141314926e-15, ' реку'), (2.0902076671222012e-15, ' ширину'), (2.070052727115449e-15, ' колонны'), (2.0650465144833073e-15, ' раску'), (1.9763111756496445e-15, ' дну'), (1.9726949713886528e-15, ' маски'), (1.89803271061728e-15, ' педали'), (1.8917099602407554e-15, ' шину'), (1.8186080270896315e-15, ' куст'), (1.8134993363140266e-15, ' кучу'), (1.7664807628015757e-15, ' пинку'), (1.7660504430000531e-15, ' пару'), (1.7585573710449599e-15, ' лавку'), (1.6904106089220757e-15, ' деревню'), (1.66834744496039e-15, ' лепку'), (1.6171349655308454e-15, ' каску'), (1.5358800002231195e-15, ' спонку'), (1.5343046816128374e-15, ' гиру'), (1.52798129192992e-15, ' соску'), (1.4911156119043872e-15, ' крепкость'), (1.4530997966268406e-15, ' листу'), (1.4489974493204868e-15, ' белье'), (1.4247620391931528e-15, ' ношу'), (1.4165276072616964e-15, ' тумб'), (1.4018043014247915e-15, ' отсек'), (1.267525026606095e-15, ' пламя'), (1.2346424592618637e-15, ' ножку'), (1.2025660754318655e-15, ' ребра'), (1.1551507364581582e-15, ' листы'), (1.1394639344556135e-15, ' прямотку'), (1.0456935971219737e-15, ' коленку'), (1.0050778854839018e-15, ' копию'), (9.863571906304287e-16, ' смязку'), (9.360668432812877e-16, ' сопли'), (7.950221333089195e-16, ' ямы'), (7.468822038102074e-16, ' тортик'), (7.376383569135058e-16, ' рта'), (6.065072244502179e-16, ' шну'), (5.71708443765507e-16, ' пилку'), (4.643361823317966e-16, ' ограждения')]\n",
            "\n",
            "Example #2\n",
            "word: балка \n",
            "gold_sense_id: 2 \n",
            "context: не страшно. Теперь все -- сказка. Баба-Яга в горах... Волчье логово В Глубокую балку пойти -- за топливом?.. Там стены -- глубокой чашей, небо там -- сине-сине. Кусты \n",
            "substitutes & probabilities: [(0.0010332144464393104, ' пещеру'), (5.1470562513327076e-05, ' долину'), (2.1747244789884113e-05, ' реку'), (8.099858014953888e-06, ' деревню'), (3.4426532733348333e-06, ' озеро'), (2.9787087398684663e-06, ' могилу'), (2.53825476277197e-06, ' глубину'), (1.025975613443922e-06, ' Реку'), (9.35756614954228e-07, ' глушь'), (1.7948889461101366e-07, ' Камню'), (1.0948566969733562e-12, ' гору'), (6.903752294165751e-13, ' башню'), (2.6915568955648856e-13, ' чашу'), (1.68825888263644e-13, ' баню'), (1.4279442804111329e-13, ' печь'), (8.243856541531154e-14, ' лужу'), (8.228720844349439e-14, ' стену'), (7.447704177259809e-14, ' яму'), (7.053930974598219e-14, ' Гору'), (6.896943879903569e-14, ' дыру'), (6.660028309218055e-14, ' пропасть'), (6.63211132987613e-14, ' болотку'), (5.85241518251595e-14, ' лесницу'), (5.841295238218739e-14, ' крышу'), (5.382775020313633e-14, ' тайгу'), (4.987293812995139e-14, ' шахту'), (4.8620825898841805e-14, ' трубу'), (4.633113019358194e-14, ' Башню'), (4.4966692494924736e-14, ' поляну'), (4.184124268301011e-14, ' дуплу'), (4.136704483096181e-14, ' рощу'), (3.578102056831362e-14, ' грязь'), (3.423395312440148e-14, ' пустыню'), (3.223167368665793e-14, ' Яму'), (3.138973936748737e-14, ' горы'), (3.0687755498644115e-14, ' доску'), (3.039526308825536e-14, ' коробку'), (2.987395284968983e-14, ' крепость'), (2.8699331582548845e-14, ' лазню'), (2.83840717982565e-14, ' гонку'), (2.8058304714287954e-14, ' Кусты'), (2.4844756771909818e-14, ' печень'), (2.4515025765365742e-14, ' балку'), (2.315285667504447e-14, ' кучу'), (2.2521120759057367e-14, ' церковь'), (2.1080479196715053e-14, ' дамбу'), (2.058964538533004e-14, ' больницу'), (1.991481193248193e-14, ' речку'), (1.8985602302201884e-14, ' равнину'), (1.8141707098081453e-14, ' камень'), (1.718527868391151e-14, ' Волгу'), (1.7077692154015866e-14, ' лугу'), (1.692364356195675e-14, ' точку'), (1.6922294741074866e-14, ' рву'), (1.5566512979996712e-14, ' тень'), (1.509360674437326e-14, ' дань'), (1.3924529793424219e-14, ' щель'), (1.3404344074053742e-14, ' станицу'), (1.2991969186265738e-14, ' череду'), (1.2645918350279132e-14, ' горячку'), (1.253808493798993e-14, ' лаву'), (1.223289765427871e-14, ' арку'), (1.2214853411532387e-14, ' Арку'), (1.218104407203882e-14, ' палатку'), (1.2104687412238186e-14, ' колонну'), (1.2104187625929275e-14, ' ванну'), (1.2084470905504634e-14, ' пущу'), (1.1833613554871135e-14, ' решетку'), (1.177295575507801e-14, ' раку'), (1.1671042251402659e-14, ' беседку'), (1.1569804663548697e-14, ' свалку'), (1.139597236163498e-14, ' чащу'), (1.1314452246895884e-14, ' тару'), (1.1232789509858973e-14, ' Белую'), (1.1117398698873346e-14, ' губу'), (1.0676050506282683e-14, ' сеть'), (1.0666991879433646e-14, ' Камень'), (1.0433022639361997e-14, ' жару'), (1.041088903062724e-14, ' пушку'), (1.0253566988782793e-14, ' сосну'), (1.0130510416707817e-14, ' мастерскую'), (9.929653524982065e-15, ' хату'), (9.783222157992517e-15, ' руину'), (9.654689764536009e-15, ' камню'), (9.520295419612919e-15, ' кухню'), (9.519592742749886e-15, ' Волчье'), (9.335287173249306e-15, ' кабину'), (9.180006427293067e-15, ' сруб'), (8.880671938504417e-15, ' болото'), (8.87597903921744e-15, ' чайку'), (8.70862363668353e-15, ' росу'), (8.680749259608297e-15, ' траву'), (8.623502651911545e-15, ' стоянку'), (8.567677123358206e-15, ' тишу'), (8.564059694140385e-15, ' канализацию'), (8.518870431146145e-15, ' браму'), (8.351576749210625e-15, ' Баню'), (8.082466660638683e-15, ' Гаражу'), (8.033653194214605e-15, ' холму'), (7.943753379208757e-15, ' полю'), (7.93697465104902e-15, ' вершину'), (7.878151910022656e-15, ' драку'), (7.865932700396733e-15, ' Луну'), (7.669722201950566e-15, ' почву'), (7.656856467947193e-15, ' вежу'), (7.510479294653793e-15, ' кошку'), (7.43464474539226e-15, ' Горки'), (7.364148788154296e-15, ' избу'), (7.313108111356615e-15, ' олень'), (7.290264028446848e-15, ' Логово'), (7.148810136513673e-15, ' Воду'), (7.130389548655219e-15, ' Ползу'), (7.0801045728427e-15, ' Донку'), (7.0511643864099074e-15, ' глину'), (7.00469080911864e-15, ' Альпы'), (6.786288933039685e-15, ' стонку'), (6.781193220221406e-15, ' капелю'), (6.5609846628297824e-15, ' кровать'), (6.536819543179732e-15, ' пустоту'), (6.493515769197278e-15, ' бочку'), (6.127781464196146e-15, ' Восток'), (5.982763892752635e-15, ' вату'), (5.829441646759935e-15, ' гаю'), (5.803333275285965e-15, ' Малую'), (5.638192845746935e-15, ' пятницу'), (5.57538144653288e-15, ' котел'), (5.560415106802887e-15, ' раю'), (5.536653429113043e-15, ' ваду'), (5.531726159643013e-15, ' подальше'), (5.313482659343822e-15, ' горелку'), (5.294081692468261e-15, ' толпу'), (5.282084939328802e-15, ' заставку'), (5.056606044986871e-15, ' колею'), (4.996181955508381e-15, ' баранку'), (4.94921220378864e-15, ' Казню'), (4.80583111393293e-15, ' кану'), (4.742526855311287e-15, ' лагу'), (4.737170672021338e-15, ' низовую'), (4.6023947528086195e-15, ' нору'), (4.56437716019118e-15, ' Город'), (4.46954793898662e-15, ' жопу'), (4.456562150892476e-15, ' ленту'), (4.251907936985304e-15, ' греблю'), (4.1926409639628996e-15, ' луг'), (4.127033501826966e-15, ' Большую'), (4.074358850744164e-15, ' казнь'), (3.996628907629356e-15, ' Лугу'), (3.971887925243139e-15, ' Балку'), (3.919816117552817e-15, ' горичку'), (3.8291920208345894e-15, ' угол'), (3.752045982705337e-15, ' купель'), (3.750219565256698e-15, ' логово'), (3.719264065367893e-15, ' талию'), (3.715800937646046e-15, ' Голову'), (3.665754940979731e-15, ' цеху'), (3.5293923111201867e-15, ' капель'), (3.389449510208922e-15, ' Ярину'), (3.355902020034572e-15, ' Зеленую'), (3.2387960226404074e-15, ' всюду'), (3.237722343027014e-15, ' Байкал'), (3.2056740714769893e-15, ' Долину'), (3.1055155640151794e-15, ' пору'), (3.0447269842955885e-15, ' пену'), (3.0254206787950355e-15, ' домик'), (2.890757048364908e-15, ' волгу'), (2.852940375720244e-15, ' лесу'), (2.845893135720107e-15, ' бреду'), (2.7839906003140526e-15, ' снеговую'), (2.7086796803698875e-15, ' кусты'), (2.472280736768094e-15, ' прочь'), (2.4032392137628994e-15, ' аду'), (2.2094830558620585e-15, ' волчье'), (2.1699734000582114e-15, ' огород'), (2.1545804712744812e-15, ' ворку'), (2.136359534498013e-15, ' Чурку'), (2.037179151958289e-15, ' Лесную'), (1.9194415505943235e-15, ' пешку'), (1.882915195379065e-15, ' Питер'), (1.7786994922372265e-15, ' Гараж'), (1.718550256439299e-15, ' Гречку'), (1.6900607880512408e-15, ' Баку'), (1.6149440575354023e-15, ' Волочку'), (1.6077504041256665e-15, ' линию'), (1.5927114978115321e-15, ' даль'), (1.5096149599099902e-15, ' балки'), (1.4952319127295915e-15, ' Будду'), (1.4873698718359055e-15, ' Огню'), (1.4346082283090362e-15, ' Козел'), (1.433844124229446e-15, ' Морскую'), (1.2258560962598652e-15, ' ГБ'), (1.2158613543091434e-15, ' Тулу'), (1.2146602613740674e-15, ' Вышку'), (1.0499224787319142e-15, ' Крест'), (1.0259257393725717e-15, ' Боровую'), (1.0110607265594165e-15, ' Нил'), (9.084495292295652e-16, ' Небо'), (8.985016433086461e-16, ' Крышку'), (8.881923771257862e-16, ' дачи'), (8.691755316932551e-16, ' Дрова'), (8.667061938659524e-16, ' Ветер'), (8.392981726684206e-16, ' вышку'), (8.276600243782954e-16, ' Клинку'), (7.8627474926381665e-16, ' Лед'), (7.717809514675207e-16, ' обитель'), (6.807700041683956e-16, ' Буг'), (6.769480430101709e-16, ' Кузню'), (6.62187955130063e-16, ' Орел'), (5.733848163475103e-16, ' Лагу'), (5.642027258334601e-16, ' Карпати'), (5.213027105362822e-16, ' Пруд'), (4.924263040518452e-16, ' Чугун'), (4.784032590148638e-16, ' Донец'), (4.666502257532704e-16, ' Ирку'), (4.4034369710660847e-16, ' Бочку'), (4.3606197681638253e-16, ' Конь'), (4.160997107557803e-16, ' Шутку'), (4.053076019556487e-16, ' Любую'), (3.6746697296739396e-16, ' ЛБ'), (3.509467145238824e-16, ' ярку'), (3.493825499995864e-16, ' Еку'), (3.295892287416284e-16, ' Егорь'), (3.2172483878227713e-16, ' Мотор'), (2.9634465635048456e-16, ' Афон'), (2.693810157350655e-16, ' Логу'), (2.480552736601678e-16, ' ТАМ'), (1.9502542947607884e-16, ' Слон')]\n"
          ]
        }
      ]
    },
    {
      "cell_type": "markdown",
      "metadata": {
        "id": "A3lUtFGravAQ"
      },
      "source": [
        "---"
      ]
    },
    {
      "cell_type": "code",
      "metadata": {
        "colab": {
          "base_uri": "https://localhost:8080/",
          "height": 881
        },
        "id": "1-Fge034mdW0",
        "outputId": "9f671652-c6ad-4bbd-d728-e0f0034a7332"
      },
      "source": [
        "# we will further work with this dataframe \n",
        "# (especially w the columns word, substs_probs, gold_sense_id)\n",
        "df.head(3)"
      ],
      "execution_count": null,
      "outputs": [
        {
          "output_type": "execute_result",
          "data": {
            "text/html": [
              "<div>\n",
              "<style scoped>\n",
              "    .dataframe tbody tr th:only-of-type {\n",
              "        vertical-align: middle;\n",
              "    }\n",
              "\n",
              "    .dataframe tbody tr th {\n",
              "        vertical-align: top;\n",
              "    }\n",
              "\n",
              "    .dataframe thead th {\n",
              "        text-align: right;\n",
              "    }\n",
              "</style>\n",
              "<table border=\"1\" class=\"dataframe\">\n",
              "  <thead>\n",
              "    <tr style=\"text-align: right;\">\n",
              "      <th></th>\n",
              "      <th>index</th>\n",
              "      <th>context_id</th>\n",
              "      <th>word</th>\n",
              "      <th>gold_sense_id</th>\n",
              "      <th>predict_sense_id</th>\n",
              "      <th>positions</th>\n",
              "      <th>context</th>\n",
              "      <th>word_at</th>\n",
              "      <th>substs_probs</th>\n",
              "    </tr>\n",
              "  </thead>\n",
              "  <tbody>\n",
              "    <tr>\n",
              "      <th>0</th>\n",
              "      <td>0</td>\n",
              "      <td>1</td>\n",
              "      <td>балка</td>\n",
              "      <td>1</td>\n",
              "      <td>NaN</td>\n",
              "      <td>(90, 95)</td>\n",
              "      <td>маленькой комнаты. Он был очень высок, наклони...</td>\n",
              "      <td>балку</td>\n",
              "      <td>[(0.0003074132201598033,  решетку), (4.1475361...</td>\n",
              "    </tr>\n",
              "    <tr>\n",
              "      <th>1</th>\n",
              "      <td>1</td>\n",
              "      <td>2</td>\n",
              "      <td>балка</td>\n",
              "      <td>1</td>\n",
              "      <td>NaN</td>\n",
              "      <td>(69, 74)</td>\n",
              "      <td>Пантюхин в Склифе сейчас. Он выползти на улицу...</td>\n",
              "      <td>балка</td>\n",
              "      <td>[(0.020003307469640956,  крыша), (0.0001694636...</td>\n",
              "    </tr>\n",
              "    <tr>\n",
              "      <th>2</th>\n",
              "      <td>2</td>\n",
              "      <td>3</td>\n",
              "      <td>балка</td>\n",
              "      <td>1</td>\n",
              "      <td>NaN</td>\n",
              "      <td>(115, 122)</td>\n",
              "      <td>равнозначно обеспечивает и меланхоличную езду....</td>\n",
              "      <td>балками</td>\n",
              "      <td>[(0.01107819609150758,  колесами), (0.00561495...</td>\n",
              "    </tr>\n",
              "    <tr>\n",
              "      <th>3</th>\n",
              "      <td>3</td>\n",
              "      <td>4</td>\n",
              "      <td>балка</td>\n",
              "      <td>1</td>\n",
              "      <td>NaN</td>\n",
              "      <td>(85, 91)</td>\n",
              "      <td>верхняя часть закрыта, замкнута, многократно о...</td>\n",
              "      <td>балкой</td>\n",
              "      <td>[(0.0018431491390275595,  крышей), (0.00144177...</td>\n",
              "    </tr>\n",
              "    <tr>\n",
              "      <th>4</th>\n",
              "      <td>4</td>\n",
              "      <td>5</td>\n",
              "      <td>балка</td>\n",
              "      <td>1</td>\n",
              "      <td>NaN</td>\n",
              "      <td>(66, 71)</td>\n",
              "      <td>по телевизору: наши гол забили, я вскочил от р...</td>\n",
              "      <td>балку</td>\n",
              "      <td>[(0.0040539591647571534,  стену), (0.000310801...</td>\n",
              "    </tr>\n",
              "    <tr>\n",
              "      <th>...</th>\n",
              "      <td>...</td>\n",
              "      <td>...</td>\n",
              "      <td>...</td>\n",
              "      <td>...</td>\n",
              "      <td>...</td>\n",
              "      <td>...</td>\n",
              "      <td>...</td>\n",
              "      <td>...</td>\n",
              "      <td>...</td>\n",
              "    </tr>\n",
              "    <tr>\n",
              "      <th>3486</th>\n",
              "      <td>3486</td>\n",
              "      <td>3487</td>\n",
              "      <td>штамп</td>\n",
              "      <td>4</td>\n",
              "      <td>NaN</td>\n",
              "      <td>(81, 87)</td>\n",
              "      <td>дурак, но партию свою отрабатывал точно, по ус...</td>\n",
              "      <td>штампы</td>\n",
              "      <td>[(0.0031943255190048274,  партия), (9.88932979...</td>\n",
              "    </tr>\n",
              "    <tr>\n",
              "      <th>3487</th>\n",
              "      <td>3487</td>\n",
              "      <td>3488</td>\n",
              "      <td>штамп</td>\n",
              "      <td>4</td>\n",
              "      <td>NaN</td>\n",
              "      <td>(85, 91)</td>\n",
              "      <td>дело... получается, мыслить и выражать свое мн...</td>\n",
              "      <td>штампу</td>\n",
              "      <td>[(1.0800298370078835e-05,  логике), (9.5142067...</td>\n",
              "    </tr>\n",
              "    <tr>\n",
              "      <th>3488</th>\n",
              "      <td>3488</td>\n",
              "      <td>3489</td>\n",
              "      <td>штамп</td>\n",
              "      <td>4</td>\n",
              "      <td>NaN</td>\n",
              "      <td>(71, 78)</td>\n",
              "      <td>, что актер должен иметь пять штампов-клише \"п...</td>\n",
              "      <td>штампов</td>\n",
              "      <td>[(0.0005675281293156448,  линий), (0.000390070...</td>\n",
              "    </tr>\n",
              "    <tr>\n",
              "      <th>3489</th>\n",
              "      <td>3489</td>\n",
              "      <td>3490</td>\n",
              "      <td>штамп</td>\n",
              "      <td>4</td>\n",
              "      <td>NaN</td>\n",
              "      <td>(107, 113)</td>\n",
              "      <td>сегодняшний день в системе негосударственного ...</td>\n",
              "      <td>штампы</td>\n",
              "      <td>[(0.01981654824764262,  следы), (0.00222401351...</td>\n",
              "    </tr>\n",
              "    <tr>\n",
              "      <th>3490</th>\n",
              "      <td>3490</td>\n",
              "      <td>3491</td>\n",
              "      <td>штамп</td>\n",
              "      <td>4</td>\n",
              "      <td>NaN</td>\n",
              "      <td>(95, 101)</td>\n",
              "      <td>молиться на Брукхаймера… …В «Пираты Карибского...</td>\n",
              "      <td>штампы</td>\n",
              "      <td>[(0.0005193061257643011,  шутки), (0.000126148...</td>\n",
              "    </tr>\n",
              "  </tbody>\n",
              "</table>\n",
              "<p>3491 rows × 9 columns</p>\n",
              "</div>"
            ],
            "text/plain": [
              "      index  ...                                       substs_probs\n",
              "0         0  ...  [(0.0003074132201598033,  решетку), (4.1475361...\n",
              "1         1  ...  [(0.020003307469640956,  крыша), (0.0001694636...\n",
              "2         2  ...  [(0.01107819609150758,  колесами), (0.00561495...\n",
              "3         3  ...  [(0.0018431491390275595,  крышей), (0.00144177...\n",
              "4         4  ...  [(0.0040539591647571534,  стену), (0.000310801...\n",
              "...     ...  ...                                                ...\n",
              "3486   3486  ...  [(0.0031943255190048274,  партия), (9.88932979...\n",
              "3487   3487  ...  [(1.0800298370078835e-05,  логике), (9.5142067...\n",
              "3488   3488  ...  [(0.0005675281293156448,  линий), (0.000390070...\n",
              "3489   3489  ...  [(0.01981654824764262,  следы), (0.00222401351...\n",
              "3490   3490  ...  [(0.0005193061257643011,  шутки), (0.000126148...\n",
              "\n",
              "[3491 rows x 9 columns]"
            ]
          },
          "metadata": {},
          "execution_count": 124
        }
      ]
    },
    {
      "cell_type": "markdown",
      "metadata": {
        "id": "txFk7uBi4g2g"
      },
      "source": [
        "## Preprocessing"
      ]
    },
    {
      "cell_type": "markdown",
      "metadata": {
        "id": "J88WaTxeJ3CT"
      },
      "source": [
        "This objects are used for morphological analysis."
      ]
    },
    {
      "cell_type": "code",
      "metadata": {
        "id": "RiKtB-GkpqhA"
      },
      "source": [
        "_ma = MorphAnalyzer()\n",
        "_ma_cache = {}"
      ],
      "execution_count": null,
      "outputs": []
    },
    {
      "cell_type": "markdown",
      "metadata": {
        "id": "nTsykqrARMAL"
      },
      "source": [
        "Function `ma(s)` gets a string with one token, deletes spaces before and after token and returns grammatical information about it. If it was met before, we would get information from the special dictionary `_ma_cache`; if it was not, information would be gotten from `pymorphy2`."
      ]
    },
    {
      "cell_type": "code",
      "metadata": {
        "id": "GVcGWvB8d0i6"
      },
      "source": [
        "# ma stands for morphological analysis\n",
        "def ma(s):\n",
        "    '''\n",
        "    Gets a string with one token, deletes spaces before and \n",
        "    after token and returns grammatical information about it. If it was met \n",
        "    before, we would get information from the special dictionary _ma_cache; \n",
        "    if it was not, information would be gotten from pymorphy2.\n",
        "    '''\n",
        "    s = s.strip()  # get rid of spaces before and after token, \n",
        "                   # pytmorphy2 doesn't work with them correctly\n",
        "    if s not in _ma_cache:\n",
        "        _ma_cache[s] = _ma.parse(s)\n",
        "    return _ma_cache[s]"
      ],
      "execution_count": null,
      "outputs": []
    },
    {
      "cell_type": "code",
      "metadata": {
        "colab": {
          "base_uri": "https://localhost:8080/"
        },
        "id": "flc2cM4_lQUZ",
        "outputId": "c0a2e5db-9122-48b5-a2b9-ca1fe357af21"
      },
      "source": [
        "print('word:', df.loc[0, 'substs_probs'][0][1])"
      ],
      "execution_count": null,
      "outputs": [
        {
          "output_type": "stream",
          "name": "stdout",
          "text": [
            "word:  решетку\n"
          ]
        }
      ]
    },
    {
      "cell_type": "code",
      "metadata": {
        "colab": {
          "base_uri": "https://localhost:8080/"
        },
        "id": "o7UEPreGmnzv",
        "outputId": "f8cc9b0a-839a-402e-89fa-db544ccbeae0"
      },
      "source": [
        "print('morphological analysis:', ma(df.loc[0, 'substs_probs'][0][1]))"
      ],
      "execution_count": null,
      "outputs": [
        {
          "output_type": "stream",
          "name": "stdout",
          "text": [
            "morphological analysis: [Parse(word='решётку', tag=OpencorporaTag('NOUN,inan,femn sing,accs'), normal_form='решётка', score=1.0, methods_stack=((DictionaryAnalyzer(), 'решётку', 8, 3),))]\n"
          ]
        }
      ]
    },
    {
      "cell_type": "markdown",
      "metadata": {
        "id": "EZA2ynJHP8mp"
      },
      "source": [
        "Function `get_nf_cnt(substs_probs)` gets substitutes and returns normal forms of substitutes and count of substitutes that coresponds to each normal form. "
      ]
    },
    {
      "cell_type": "code",
      "metadata": {
        "id": "5VP3B-Znc-G-"
      },
      "source": [
        "def get_nf_cnt(substs_probs):\n",
        "    '''\n",
        "    Gets substitutes and returns normal \n",
        "    forms of substitutes and count of substitutes that coresponds to \n",
        "    each normal form.\n",
        "    '''\n",
        "    nf_cnt = Counter(nf for l in substs_probs \\\n",
        "                     for p, s in l for nf in {h.normal_form for h in ma(s)})\n",
        "    print('\\n'.join('%s: %d' % p for p in nf_cnt.most_common(10)))\n",
        "    return nf_cnt"
      ],
      "execution_count": null,
      "outputs": []
    },
    {
      "cell_type": "code",
      "metadata": {
        "colab": {
          "base_uri": "https://localhost:8080/"
        },
        "id": "xw6vfEpQms3O",
        "outputId": "cb2e5b87-46d2-41ad-9382-6cb33ec43189"
      },
      "source": [
        "nf_cnt = get_nf_cnt(df['substs_probs'])"
      ],
      "execution_count": null,
      "outputs": [
        {
          "output_type": "stream",
          "name": "stdout",
          "text": [
            "камень: 1628\n",
            "жена: 1124\n",
            "песок: 1122\n",
            "спина: 1084\n",
            "ручка: 1073\n",
            "кисть: 1041\n",
            "стена: 1006\n",
            "угол: 1005\n",
            "крыло: 962\n",
            "прочий: 955\n"
          ]
        }
      ]
    },
    {
      "cell_type": "markdown",
      "metadata": {
        "id": "u6lc5eImQIW2"
      },
      "source": [
        "Function `get_normal_forms(s, nf_cnt=None)` gets string with one token and returns set of most possible lemmas, all lemmas or one possible lemma."
      ]
    },
    {
      "cell_type": "code",
      "metadata": {
        "id": "Tj78aHkxdM-x"
      },
      "source": [
        "def get_normal_forms(s, nf_cnt=None):\n",
        "    '''\n",
        "    Gets string with one token and returns set of most possible lemmas, \n",
        "    all lemmas or one possible lemma.\n",
        "    '''\n",
        "    hh = ma(s)\n",
        "    if nf_cnt is not None and len(hh) > 1:  # select most common normal form\n",
        "        h_weights = [nf_cnt[h.normal_form] for h in hh]\n",
        "        max_weight = max(h_weights)\n",
        "        return {h.normal_form for i, h in enumerate(hh) \\\n",
        "                if h_weights[i] == max_weight}\n",
        "    else:\n",
        "        return {h.normal_form for h in hh}"
      ],
      "execution_count": null,
      "outputs": []
    },
    {
      "cell_type": "markdown",
      "metadata": {
        "id": "Op55ueB9xBee"
      },
      "source": [
        "For each substitute we choose the most common lemma among all substitutes' lemmas."
      ]
    },
    {
      "cell_type": "code",
      "metadata": {
        "colab": {
          "base_uri": "https://localhost:8080/"
        },
        "id": "m-vIrxgLnqwk",
        "outputId": "750159b3-f32e-4301-f1d6-8911a78d0f64"
      },
      "source": [
        "get_normal_forms('жала')"
      ],
      "execution_count": null,
      "outputs": [
        {
          "output_type": "execute_result",
          "data": {
            "text/plain": [
              "{'жало', 'жать'}"
            ]
          },
          "metadata": {},
          "execution_count": 132
        }
      ]
    },
    {
      "cell_type": "code",
      "metadata": {
        "colab": {
          "base_uri": "https://localhost:8080/"
        },
        "id": "IAhE0vcyoRhb",
        "outputId": "fb257575-430d-4f10-dc6e-1d2ab1780c9b"
      },
      "source": [
        "print('counts:', nf_cnt['жало'], nf_cnt['жать'])"
      ],
      "execution_count": null,
      "outputs": [
        {
          "output_type": "stream",
          "name": "stdout",
          "text": [
            "counts: 20 21\n"
          ]
        }
      ]
    },
    {
      "cell_type": "code",
      "metadata": {
        "colab": {
          "base_uri": "https://localhost:8080/"
        },
        "id": "yMeOHryMoo6Q",
        "outputId": "26dd5e33-94a4-490b-d310-572ef716f483"
      },
      "source": [
        "get_normal_forms('жала', nf_cnt)"
      ],
      "execution_count": null,
      "outputs": [
        {
          "output_type": "execute_result",
          "data": {
            "text/plain": [
              "{'жать'}"
            ]
          },
          "metadata": {},
          "execution_count": 134
        }
      ]
    },
    {
      "cell_type": "markdown",
      "metadata": {
        "id": "p-wqPnwOVA0U"
      },
      "source": [
        "Function `preprocess_substs(r, lemmatize=True, nf_cnt=None, exclude_lemmas={}, )` is for preprocessing of substitutions. It gets Series of substitutions and probabilities, exclude lemmas from `exclude_lemmas` if it is not empty and lemmatize them if it is needed."
      ]
    },
    {
      "cell_type": "code",
      "metadata": {
        "id": "GimIIyfdU7d3"
      },
      "source": [
        "def preprocess_substs(r, lemmatize=True, nf_cnt=None, exclude_lemmas={}):\n",
        "    '''\n",
        "    For preprocessing of substitutions. It gets Series of substitutions \n",
        "    and probabilities, exclude lemmas from exclude_lemmas \n",
        "    if it is not empty and lemmatize them if it is needed.\n",
        "    '''\n",
        "    res = [s.strip() for p, s in r]\n",
        "    if exclude_lemmas:\n",
        "        res1 = [s for s in res \n",
        "                if not set(get_normal_forms(s)).intersection(exclude_lemmas)]\n",
        "        res = res1\n",
        "    if lemmatize:\n",
        "        res = [nf for s in res for nf in get_normal_forms(s, nf_cnt)]\n",
        "    return res"
      ],
      "execution_count": null,
      "outputs": []
    },
    {
      "cell_type": "markdown",
      "metadata": {
        "id": "wCUs-w0vweuy"
      },
      "source": [
        "Here substitutes are preprocessed for clusterization."
      ]
    },
    {
      "cell_type": "code",
      "metadata": {
        "id": "XmYgA70kSyjB"
      },
      "source": [
        "topk = 128 # size of the substitutes' top to use"
      ],
      "execution_count": null,
      "outputs": []
    },
    {
      "cell_type": "code",
      "metadata": {
        "id": "zLdlqAZyVE-B"
      },
      "source": [
        "substs_texts = df.apply(lambda r: preprocess_substs(r.substs_probs[:topk], \n",
        "                                                    nf_cnt=nf_cnt, \n",
        "                                                    lemmatize=True), \n",
        "                        axis=1).str.join(' ')"
      ],
      "execution_count": null,
      "outputs": []
    },
    {
      "cell_type": "code",
      "metadata": {
        "colab": {
          "base_uri": "https://localhost:8080/"
        },
        "id": "0LJCtMBHo_Ew",
        "outputId": "3b0e825b-1622-4e05-9f72-4fdbe1377bb8"
      },
      "source": [
        "tokens_5 = [a[1] for a in df.loc[0, 'substs_probs']]\n",
        "print(' '.join(tokens_5))"
      ],
      "execution_count": null,
      "outputs": [
        {
          "output_type": "stream",
          "name": "stdout",
          "text": [
            " решетку  поверхность  опору  трубу  мебель  спинку  балку  доску  раму  панель  коробку  щель  палку  плотину  стул  кровать  ручку  дорожку  сетку  ширму  кисть  жену  бегу  сидение  корочку  маску  плиту  стенку  планку  стены  ободу  плечо  нишу  педаль  линию  плату  полку  лампу  крышу  столовую  кресло  розу  стонку  вилку  крышку  колонну  обои  полочку  пробку  подставку  кровлю  накладку  плоть  столик  проставку  порог  дерево  петлю  стекло  настил  стекла  арку  табличку  полосу  шахту  подушки  жижу  дугу  ковер  клетку  шею  угол  шторку  кровати  ступеньки  крошку  камни  ногами  пластину  пленку  шторы  грелку  резину  колено  грань  чашу  половую  матрац  горло  здание  проводку  заставку  плитку  диванчик  свечу  основу  матку  столбу  гладь  разводку  крыло  пятку  капель  шкафы  цедру  кухню  ведро  стенами  вышку  поясницу  вежу  вставку  шайбу  спиной  звезду  балконную  утку  бревно  спираль  печку  входную  череду  точку  мыло  шкуру  стальную  одеяла  панду  группу  окошко  краину  ступень  тягу  подарку  сцену  массу  волну  перешку  стружку  старую  лифтовую  драку  железку  перекладину  пятно  брался  замок  перину  партию  росу  скалу  осень  ленту  огород  оптику  площадку  холл  бумагу  шлем  секцию  нить  гущу  пену  карниз  соседей  ставню  штуку  систему  книжку  качель  емкость  кривую  разницу  дыры  кран  палец  эмаль  катку  трость  колеса  борт  поручни  дрова  полину  направляющую  реку  ширину  колонны  раску  дну  маски  педали  шину  куст  кучу  пинку  пару  лавку  деревню  лепку  каску  спонку  гиру  соску  крепкость  листу  белье  ношу  тумб  отсек  пламя  ножку  ребра  листы  прямотку  коленку  копию  смязку  сопли  ямы  тортик  рта  шну  пилку  ограждения\n"
          ]
        }
      ]
    },
    {
      "cell_type": "code",
      "metadata": {
        "colab": {
          "base_uri": "https://localhost:8080/"
        },
        "id": "ilD1N-agq9j-",
        "outputId": "ec19578b-ea5f-4b63-8d73-bf11e882aa63"
      },
      "source": [
        "print('word:', df.loc[0, 'word'], \n",
        "      '\\nlemmas of substitutes:', substs_texts[0])"
      ],
      "execution_count": null,
      "outputs": [
        {
          "output_type": "stream",
          "name": "stdout",
          "text": [
            "word: балка \n",
            "lemmas of substitutes: решётка поверхность опора труба мебель спинка балка доска рама панель коробка щель палка плотина стул кровать ручка дорожка сетка ширма кисть жена бег сидение корочка маска плита стенка планка стена обод плечо ниша педаль линия плата полк лампа крыша столовый кресло роза стонка вилка вилок крышка колонна обои полочка пробка подставка кровля накладка плоть столик проставка порог дерево петля стекло настил стекло арка табличка полоса шахта подушка жижа дуга ковёр клетка шея угол шторка кровать ступенька крошка камень нога пластина плёнка штора грелка резина колено грань чаша половый половой матрац горло здание проводка заставка плитка диванчик свеча основа матка столб гладь разводка крыло пятка капля шкаф цедра кухня ведро стена вышка поясница вежа вставка шайба спина звезда балконный утка уток бревно спираль печка входной черёд череда точка мыло шкура стальной одеяло панда\n"
          ]
        }
      ]
    },
    {
      "cell_type": "markdown",
      "metadata": {
        "id": "IIqqD75mx7JF"
      },
      "source": [
        "`substs_texts` is the set with strings of lemmatized substitutes for each example."
      ]
    },
    {
      "cell_type": "code",
      "metadata": {
        "colab": {
          "base_uri": "https://localhost:8080/"
        },
        "id": "qZ6CDdzsySXM",
        "outputId": "8d725f72-12d8-49a7-bf0e-f8946f9cdd62"
      },
      "source": [
        "substs_texts"
      ],
      "execution_count": null,
      "outputs": [
        {
          "output_type": "execute_result",
          "data": {
            "text/plain": [
              "0       решётка поверхность опора труба мебель спинка ...\n",
              "1       крыша плита здание труба стена горка стекло до...\n",
              "2       колесо диск тормоз опора мост ось колено панел...\n",
              "3       крыша опора стена рама труба плита основа двер...\n",
              "4       стена дерево стекло крыша камень камень кресло...\n",
              "                              ...                        \n",
              "3486    партия образец приём бумага график инструмент ...\n",
              "3487    логика убеждение подпись нерв шаблон правило в...\n",
              "3488    линия клёш картинка исключение атрибут фраза в...\n",
              "3489    след остаток фрагмент корень образец стереотип...\n",
              "3490    шутка сцена мотив приключение приём момент чер...\n",
              "Length: 3491, dtype: object"
            ]
          },
          "metadata": {},
          "execution_count": 167
        }
      ]
    },
    {
      "cell_type": "markdown",
      "metadata": {
        "id": "RGsls1jh4lMY"
      },
      "source": [
        "## Clusterization and ARI calculating"
      ]
    },
    {
      "cell_type": "markdown",
      "metadata": {
        "id": "w6NF2S1mDlT4"
      },
      "source": [
        "Paramters which are used for vectorization of substitutes and clusterization."
      ]
    },
    {
      "cell_type": "code",
      "metadata": {
        "id": "UqIrfKabqqu2"
      },
      "source": [
        "vectorizer = 'TfidfVectorizer'\n",
        "lemmatize = True\n",
        "analyzer = 'word'\n",
        "min_df = 0.05\n",
        "max_df = 0.95\n",
        "ngram_range = (1, 1)\n",
        "ncs=(2,10)"
      ],
      "execution_count": null,
      "outputs": []
    },
    {
      "cell_type": "code",
      "metadata": {
        "id": "-rlaQe-YseQL"
      },
      "source": [
        "vec = eval(vectorizer)(token_pattern=r\"(?u)\\b\\w+\\b\", \n",
        "                       min_df=min_df, max_df=max_df, \n",
        "                       analyzer=analyzer, ngram_range=ngram_range)"
      ],
      "execution_count": null,
      "outputs": []
    },
    {
      "cell_type": "code",
      "metadata": {
        "colab": {
          "base_uri": "https://localhost:8080/"
        },
        "id": "VFCFgfCgzDYA",
        "outputId": "ac1e1336-a623-4350-d044-0afa28506f24"
      },
      "source": [
        "# the list of words of interest. \n",
        "# note that all the dataset entries refer to one of these words\n",
        "df.word.unique()"
      ],
      "execution_count": null,
      "outputs": [
        {
          "output_type": "execute_result",
          "data": {
            "text/plain": [
              "array(['балка', 'вид', 'винт', 'горн', 'губа', 'жаба', 'клетка', 'крыло',\n",
              "       'купюра', 'курица', 'лавка', 'лайка', 'лев', 'лира', 'мина',\n",
              "       'мишень', 'обед', 'оклад', 'опушка', 'полис', 'пост', 'поток',\n",
              "       'проказа', 'пропасть', 'проспект', 'пытка', 'рысь', 'среда',\n",
              "       'хвост', 'штамп'], dtype=object)"
            ]
          },
          "metadata": {},
          "execution_count": 180
        }
      ]
    },
    {
      "cell_type": "markdown",
      "metadata": {
        "id": "ECMh1M_J_vr9"
      },
      "source": [
        "Function `max_ari` gets data and substitutions (and some parameters like `vectorizer` and parameters for clusterization). Here for each unique word substitutions are vectorized and senses are clusterized. "
      ]
    },
    {
      "cell_type": "code",
      "metadata": {
        "id": "KeXlsWYGzsLW"
      },
      "source": [
        "def max_ari(df, X, ncs,\n",
        "            affinity='cosine', linkage='average', vectorizer=None):\n",
        "    '''\n",
        "    Gets data and substitutions (and some parameters \n",
        "    like vectorizer and parameters for clusterization). \n",
        "    Here for each unique word substitutions \n",
        "    are vectorized and senses are clusterized.\n",
        "    It returns metrics of clusterization.\n",
        "    '''\n",
        "    sdfs = []\n",
        "    for word in df.word.unique():\n",
        "        # collecting examples for the word\n",
        "        mask = (df.word == word)\n",
        "        # vectors for substitutions\n",
        "        vectors = X[mask] if vectorizer is None \\\n",
        "        else vectorizer.fit_transform(X[mask]).toarray()\n",
        "        # ids of senses of the examples\n",
        "        gold_sense_ids = df.gold_sense_id[mask]\n",
        "        gold_sense_ids = None if gold_sense_ids.isnull().any() \\\n",
        "        else gold_sense_ids\n",
        "\n",
        "        # clusterization (ari is kept in sdf along with other info)\n",
        "        best_clids, sdf, _ = clusterize_search(word, vectors, gold_sense_ids, \n",
        "                ncs=ncs,\n",
        "                affinity=affinity, linkage=linkage)\n",
        "        df.loc[mask, 'predict_sense_id'] = best_clids # result ids of clusters\n",
        "        sdfs.append(sdf)\n",
        "    \n",
        "    return sdfs"
      ],
      "execution_count": null,
      "outputs": []
    },
    {
      "cell_type": "markdown",
      "metadata": {
        "id": "bRVKoM6gEZkV"
      },
      "source": [
        "Function `clusterize_search` gets word, vectors, gold_sense_ids and provides AgglomerativeClustering of vectors of substitutes for each example of one word.\n",
        "\n",
        "\n",
        "Than it calculates [ARI](https://en.wikipedia.org/wiki/Rand_index) and [silhouette scores](https://en.wikipedia.org/wiki/Silhouette_(clustering)).\n",
        "\n"
      ]
    },
    {
      "cell_type": "code",
      "metadata": {
        "id": "PN0IVz2loXak"
      },
      "source": [
        "def clusterize_search(word, vecs, gold_sense_ids = None, \n",
        "                      ncs=list(range(1, 5, 1)) + list(range(5, 12, 2)),\n",
        "            affinity='cosine', linkage='average', print_topf=None,\n",
        "            generate_pictures_df = False,  corpora_ids = None):\n",
        "    '''\n",
        "    Gets word, vectors, gold_sense_ids and provides AgglomerativeClustering.\n",
        "    '''\n",
        "  \n",
        "    sdfs = []\n",
        "    tmp_dfs = []\n",
        "\n",
        "    # adding 1 to zero vectors, because there will be problems (all-zero vectorized entries), if they remain zero\n",
        "    # this introduces a new dimension with possible values \n",
        "    # 1 -- all the other coords are zeros\n",
        "    # 0 -- other coords are not all-zeros\n",
        "    zero_vecs = ((vecs ** 2).sum(axis=-1) == 0)\n",
        "    if zero_vecs.sum() > 0:\n",
        "        vecs = np.concatenate((vecs, \n",
        "                               zero_vecs[:, np.newaxis].astype(vecs.dtype)), \n",
        "                              axis=-1)\n",
        "\n",
        "    best_clids = None\n",
        "    best_silhouette = 0\n",
        "    distances = []\n",
        "\n",
        "    # matrix with computed distances between each pair of the two collections of inputs\n",
        "    distance_matrix = cdist(vecs, vecs, metric=affinity)\n",
        "    distances.append(distance_matrix)\n",
        "\n",
        "    for nc in ncs:\n",
        "        # clusterization\n",
        "        clr = AgglomerativeClustering(affinity='precomputed', \n",
        "                                      linkage=linkage, \n",
        "                                      n_clusters=nc)\n",
        "        clids = clr.fit_predict(distance_matrix) if nc > 1 \\\n",
        "        else np.zeros(len(vecs))\n",
        "\n",
        "        # computing metrics\n",
        "        ari = ARI(gold_sense_ids, clids) if gold_sense_ids is not None else np.nan\n",
        "        sil_cosine = -1. if len(np.unique(clids)) < 2 \n",
        "                     else silhouette_score(vecs, clids, metric='cosine')\n",
        "        sil_euclidean = -1. if len(np.unique(clids)) < 2 \n",
        "                        else silhouette_score(vecs, clids, metric='euclidean')\n",
        "        \n",
        "        # vc like 5/4/3 says that \n",
        "        # there are 5 examples w golden_id=id1; \n",
        "        # there are 4 examples w golden_id=id2; \n",
        "        # there are 3 examples w golden_id=id3; \n",
        "        # e.g. вид 4/3/2 means that there were \n",
        "        # 4 examples with вид==view; 3 examples .==type; 2 examples .==specie\n",
        "        vc = '' if gold_sense_ids is None else '/'.join(\n",
        "            np.sort(pd.value_counts(gold_sense_ids).values)[::-1].astype(str))\n",
        "        \n",
        "        if sil_cosine > best_silhouette:\n",
        "            best_silhouette = sil_cosine\n",
        "            best_clids = clids\n",
        "\n",
        "        # metrics for each word\n",
        "        sdf = pd.DataFrame({'ari': ari,\n",
        "                            'word': word, 'nc': nc,\n",
        "                            'sil_cosine': sil_cosine,\n",
        "                            'sil_euclidean': sil_euclidean,\n",
        "                            'vc': vc,\n",
        "                            'affinity': affinity, 'linkage': linkage}, \\\n",
        "                           index=[0])\n",
        "\n",
        "        sdfs.append(sdf)\n",
        "  \n",
        "    sdf = pd.concat(sdfs, ignore_index=True)\n",
        "\n",
        "    return best_clids, sdf, distances\n"
      ],
      "execution_count": null,
      "outputs": []
    },
    {
      "cell_type": "code",
      "metadata": {
        "id": "Hl7GpRvd5IaY"
      },
      "source": [
        "sdfs = max_ari(df, \n",
        "               substs_texts, \n",
        "               ncs=range(*ncs), \n",
        "               affinity='cosine', \n",
        "               linkage='average', \n",
        "               vectorizer=vec)"
      ],
      "execution_count": null,
      "outputs": []
    },
    {
      "cell_type": "markdown",
      "metadata": {
        "id": "kt09k1vl5g5N"
      },
      "source": [
        "Metrics for one unique word."
      ]
    },
    {
      "cell_type": "code",
      "metadata": {
        "colab": {
          "base_uri": "https://localhost:8080/",
          "height": 297
        },
        "id": "fAObsH0X5Fw5",
        "outputId": "a5d8d058-feaa-4bdf-be61-884e74dfc56a"
      },
      "source": [
        "sdfs[0]"
      ],
      "execution_count": null,
      "outputs": [
        {
          "output_type": "execute_result",
          "data": {
            "text/html": [
              "<div>\n",
              "<style scoped>\n",
              "    .dataframe tbody tr th:only-of-type {\n",
              "        vertical-align: middle;\n",
              "    }\n",
              "\n",
              "    .dataframe tbody tr th {\n",
              "        vertical-align: top;\n",
              "    }\n",
              "\n",
              "    .dataframe thead th {\n",
              "        text-align: right;\n",
              "    }\n",
              "</style>\n",
              "<table border=\"1\" class=\"dataframe\">\n",
              "  <thead>\n",
              "    <tr style=\"text-align: right;\">\n",
              "      <th></th>\n",
              "      <th>ari</th>\n",
              "      <th>word</th>\n",
              "      <th>nc</th>\n",
              "      <th>sil_cosine</th>\n",
              "      <th>sil_euclidean</th>\n",
              "      <th>vc</th>\n",
              "      <th>affinity</th>\n",
              "      <th>linkage</th>\n",
              "    </tr>\n",
              "  </thead>\n",
              "  <tbody>\n",
              "    <tr>\n",
              "      <th>0</th>\n",
              "      <td>0.834313</td>\n",
              "      <td>балка</td>\n",
              "      <td>2</td>\n",
              "      <td>0.149469</td>\n",
              "      <td>0.079886</td>\n",
              "      <td>81/38</td>\n",
              "      <td>cosine</td>\n",
              "      <td>average</td>\n",
              "    </tr>\n",
              "    <tr>\n",
              "      <th>1</th>\n",
              "      <td>0.753423</td>\n",
              "      <td>балка</td>\n",
              "      <td>3</td>\n",
              "      <td>0.119797</td>\n",
              "      <td>0.064259</td>\n",
              "      <td>81/38</td>\n",
              "      <td>cosine</td>\n",
              "      <td>average</td>\n",
              "    </tr>\n",
              "    <tr>\n",
              "      <th>2</th>\n",
              "      <td>0.733763</td>\n",
              "      <td>балка</td>\n",
              "      <td>4</td>\n",
              "      <td>0.102718</td>\n",
              "      <td>0.055423</td>\n",
              "      <td>81/38</td>\n",
              "      <td>cosine</td>\n",
              "      <td>average</td>\n",
              "    </tr>\n",
              "    <tr>\n",
              "      <th>3</th>\n",
              "      <td>0.492503</td>\n",
              "      <td>балка</td>\n",
              "      <td>5</td>\n",
              "      <td>0.112496</td>\n",
              "      <td>0.060376</td>\n",
              "      <td>81/38</td>\n",
              "      <td>cosine</td>\n",
              "      <td>average</td>\n",
              "    </tr>\n",
              "    <tr>\n",
              "      <th>4</th>\n",
              "      <td>0.410899</td>\n",
              "      <td>балка</td>\n",
              "      <td>6</td>\n",
              "      <td>0.114486</td>\n",
              "      <td>0.061526</td>\n",
              "      <td>81/38</td>\n",
              "      <td>cosine</td>\n",
              "      <td>average</td>\n",
              "    </tr>\n",
              "    <tr>\n",
              "      <th>5</th>\n",
              "      <td>0.388491</td>\n",
              "      <td>балка</td>\n",
              "      <td>7</td>\n",
              "      <td>0.095982</td>\n",
              "      <td>0.051460</td>\n",
              "      <td>81/38</td>\n",
              "      <td>cosine</td>\n",
              "      <td>average</td>\n",
              "    </tr>\n",
              "    <tr>\n",
              "      <th>6</th>\n",
              "      <td>0.280409</td>\n",
              "      <td>балка</td>\n",
              "      <td>8</td>\n",
              "      <td>0.110435</td>\n",
              "      <td>0.059147</td>\n",
              "      <td>81/38</td>\n",
              "      <td>cosine</td>\n",
              "      <td>average</td>\n",
              "    </tr>\n",
              "    <tr>\n",
              "      <th>7</th>\n",
              "      <td>0.271157</td>\n",
              "      <td>балка</td>\n",
              "      <td>9</td>\n",
              "      <td>0.115767</td>\n",
              "      <td>0.061779</td>\n",
              "      <td>81/38</td>\n",
              "      <td>cosine</td>\n",
              "      <td>average</td>\n",
              "    </tr>\n",
              "  </tbody>\n",
              "</table>\n",
              "</div>"
            ],
            "text/plain": [
              "        ari   word  nc  sil_cosine  sil_euclidean     vc affinity  linkage\n",
              "0  0.834313  балка   2    0.149469       0.079886  81/38   cosine  average\n",
              "1  0.753423  балка   3    0.119797       0.064259  81/38   cosine  average\n",
              "2  0.733763  балка   4    0.102718       0.055423  81/38   cosine  average\n",
              "3  0.492503  балка   5    0.112496       0.060376  81/38   cosine  average\n",
              "4  0.410899  балка   6    0.114486       0.061526  81/38   cosine  average\n",
              "5  0.388491  балка   7    0.095982       0.051460  81/38   cosine  average\n",
              "6  0.280409  балка   8    0.110435       0.059147  81/38   cosine  average\n",
              "7  0.271157  балка   9    0.115767       0.061779  81/38   cosine  average"
            ]
          },
          "metadata": {},
          "execution_count": 184
        }
      ]
    },
    {
      "cell_type": "code",
      "metadata": {
        "id": "0cYqTZV84_Ki"
      },
      "source": [
        "def metrics(sdfs):\n",
        "    # all metrics for each unique word\n",
        "    sdf = pd.concat(sdfs, ignore_index=True)\n",
        "    # groupby is docuented to preserve inside group order\n",
        "    res = sdf.sort_values(by='ari').groupby(by='word').last()\n",
        "    # maxari for fixed hypers\n",
        "    fixed_hypers = sdf.groupby(['affinity', \n",
        "                                'linkage', \n",
        "                                'nc']).agg({'ari': np.mean}).reset_index()\n",
        "    idxmax = fixed_hypers.ari.idxmax()\n",
        "    res_df = fixed_hypers.loc[idxmax:idxmax].copy()\n",
        "    res_df = res_df.rename(columns=lambda c: 'fh_maxari' if c == 'ari' \\\n",
        "                           else 'fh_' + c)\n",
        "    res_df['maxari'] = res.ari.mean()\n",
        "\n",
        "    for metric in [c for c in sdf.columns if c.startswith('sil')]:\n",
        "        res_df[metric+'_ari'] = sdf.sort_values(by=metric).groupby(by='word').last().ari.mean()\n",
        "\n",
        "    return res_df, res, sdf"
      ],
      "execution_count": null,
      "outputs": []
    },
    {
      "cell_type": "code",
      "metadata": {
        "id": "QfbyDDkotn8x"
      },
      "source": [
        "res_df, res, sdf = metrics(sdfs)"
      ],
      "execution_count": null,
      "outputs": []
    },
    {
      "cell_type": "markdown",
      "metadata": {
        "id": "Mj0d3f3L4wGh"
      },
      "source": [
        "## Results"
      ]
    },
    {
      "cell_type": "markdown",
      "metadata": {
        "id": "tIoHchvwIHAJ"
      },
      "source": [
        "General metrics for the configuration."
      ]
    },
    {
      "cell_type": "code",
      "metadata": {
        "colab": {
          "base_uri": "https://localhost:8080/",
          "height": 80
        },
        "id": "aqB_H5HcyGYs",
        "outputId": "f8901ae1-bb00-4e72-d19b-31b4195f1dd7"
      },
      "source": [
        "res_df"
      ],
      "execution_count": null,
      "outputs": [
        {
          "output_type": "execute_result",
          "data": {
            "text/html": [
              "<div>\n",
              "<style scoped>\n",
              "    .dataframe tbody tr th:only-of-type {\n",
              "        vertical-align: middle;\n",
              "    }\n",
              "\n",
              "    .dataframe tbody tr th {\n",
              "        vertical-align: top;\n",
              "    }\n",
              "\n",
              "    .dataframe thead th {\n",
              "        text-align: right;\n",
              "    }\n",
              "</style>\n",
              "<table border=\"1\" class=\"dataframe\">\n",
              "  <thead>\n",
              "    <tr style=\"text-align: right;\">\n",
              "      <th></th>\n",
              "      <th>fh_affinity</th>\n",
              "      <th>fh_linkage</th>\n",
              "      <th>fh_nc</th>\n",
              "      <th>fh_maxari</th>\n",
              "      <th>maxari</th>\n",
              "      <th>sil_cosine_ari</th>\n",
              "      <th>sil_euclidean_ari</th>\n",
              "    </tr>\n",
              "  </thead>\n",
              "  <tbody>\n",
              "    <tr>\n",
              "      <th>1</th>\n",
              "      <td>cosine</td>\n",
              "      <td>average</td>\n",
              "      <td>3</td>\n",
              "      <td>0.563798</td>\n",
              "      <td>0.685901</td>\n",
              "      <td>0.517858</td>\n",
              "      <td>0.517858</td>\n",
              "    </tr>\n",
              "  </tbody>\n",
              "</table>\n",
              "</div>"
            ],
            "text/plain": [
              "  fh_affinity fh_linkage  fh_nc  ...    maxari  sil_cosine_ari  sil_euclidean_ari\n",
              "1      cosine    average      3  ...  0.685901        0.517858           0.517858\n",
              "\n",
              "[1 rows x 7 columns]"
            ]
          },
          "metadata": {},
          "execution_count": 187
        }
      ]
    },
    {
      "cell_type": "markdown",
      "metadata": {
        "id": "3OmY552eIWw2"
      },
      "source": [
        "Metrics for each word."
      ]
    },
    {
      "cell_type": "code",
      "metadata": {
        "colab": {
          "base_uri": "https://localhost:8080/",
          "height": 1000
        },
        "id": "VXFu6Srv-T6y",
        "outputId": "ca27e6c3-91fa-4d5e-9234-233fbbfdfdd7"
      },
      "source": [
        "res"
      ],
      "execution_count": null,
      "outputs": [
        {
          "output_type": "execute_result",
          "data": {
            "text/html": [
              "<div>\n",
              "<style scoped>\n",
              "    .dataframe tbody tr th:only-of-type {\n",
              "        vertical-align: middle;\n",
              "    }\n",
              "\n",
              "    .dataframe tbody tr th {\n",
              "        vertical-align: top;\n",
              "    }\n",
              "\n",
              "    .dataframe thead th {\n",
              "        text-align: right;\n",
              "    }\n",
              "</style>\n",
              "<table border=\"1\" class=\"dataframe\">\n",
              "  <thead>\n",
              "    <tr style=\"text-align: right;\">\n",
              "      <th></th>\n",
              "      <th>ari</th>\n",
              "      <th>nc</th>\n",
              "      <th>sil_cosine</th>\n",
              "      <th>sil_euclidean</th>\n",
              "      <th>vc</th>\n",
              "      <th>affinity</th>\n",
              "      <th>linkage</th>\n",
              "    </tr>\n",
              "    <tr>\n",
              "      <th>word</th>\n",
              "      <th></th>\n",
              "      <th></th>\n",
              "      <th></th>\n",
              "      <th></th>\n",
              "      <th></th>\n",
              "      <th></th>\n",
              "      <th></th>\n",
              "    </tr>\n",
              "  </thead>\n",
              "  <tbody>\n",
              "    <tr>\n",
              "      <th>балка</th>\n",
              "      <td>0.834313</td>\n",
              "      <td>2</td>\n",
              "      <td>0.149469</td>\n",
              "      <td>0.079886</td>\n",
              "      <td>81/38</td>\n",
              "      <td>cosine</td>\n",
              "      <td>average</td>\n",
              "    </tr>\n",
              "    <tr>\n",
              "      <th>вид</th>\n",
              "      <td>0.774342</td>\n",
              "      <td>2</td>\n",
              "      <td>0.094609</td>\n",
              "      <td>0.050402</td>\n",
              "      <td>38/36/3</td>\n",
              "      <td>cosine</td>\n",
              "      <td>average</td>\n",
              "    </tr>\n",
              "    <tr>\n",
              "      <th>винт</th>\n",
              "      <td>0.314024</td>\n",
              "      <td>7</td>\n",
              "      <td>0.130702</td>\n",
              "      <td>0.071634</td>\n",
              "      <td>67/39/16/1</td>\n",
              "      <td>cosine</td>\n",
              "      <td>average</td>\n",
              "    </tr>\n",
              "    <tr>\n",
              "      <th>горн</th>\n",
              "      <td>0.617461</td>\n",
              "      <td>2</td>\n",
              "      <td>0.099717</td>\n",
              "      <td>0.053190</td>\n",
              "      <td>30/20/1</td>\n",
              "      <td>cosine</td>\n",
              "      <td>average</td>\n",
              "    </tr>\n",
              "    <tr>\n",
              "      <th>губа</th>\n",
              "      <td>0.738749</td>\n",
              "      <td>2</td>\n",
              "      <td>0.213769</td>\n",
              "      <td>0.117009</td>\n",
              "      <td>132/3/2</td>\n",
              "      <td>cosine</td>\n",
              "      <td>average</td>\n",
              "    </tr>\n",
              "    <tr>\n",
              "      <th>жаба</th>\n",
              "      <td>0.507929</td>\n",
              "      <td>5</td>\n",
              "      <td>0.162723</td>\n",
              "      <td>0.089471</td>\n",
              "      <td>79/27/9/6</td>\n",
              "      <td>cosine</td>\n",
              "      <td>average</td>\n",
              "    </tr>\n",
              "    <tr>\n",
              "      <th>клетка</th>\n",
              "      <td>0.799571</td>\n",
              "      <td>6</td>\n",
              "      <td>0.126598</td>\n",
              "      <td>0.068017</td>\n",
              "      <td>96/38/7/4/4/1</td>\n",
              "      <td>cosine</td>\n",
              "      <td>average</td>\n",
              "    </tr>\n",
              "    <tr>\n",
              "      <th>крыло</th>\n",
              "      <td>0.562013</td>\n",
              "      <td>4</td>\n",
              "      <td>0.122369</td>\n",
              "      <td>0.067302</td>\n",
              "      <td>51/19/7/5/4/3/1/1</td>\n",
              "      <td>cosine</td>\n",
              "      <td>average</td>\n",
              "    </tr>\n",
              "    <tr>\n",
              "      <th>купюра</th>\n",
              "      <td>0.899256</td>\n",
              "      <td>3</td>\n",
              "      <td>0.113443</td>\n",
              "      <td>0.061212</td>\n",
              "      <td>138/12</td>\n",
              "      <td>cosine</td>\n",
              "      <td>average</td>\n",
              "    </tr>\n",
              "    <tr>\n",
              "      <th>курица</th>\n",
              "      <td>0.576560</td>\n",
              "      <td>2</td>\n",
              "      <td>0.161696</td>\n",
              "      <td>0.087719</td>\n",
              "      <td>62/31</td>\n",
              "      <td>cosine</td>\n",
              "      <td>average</td>\n",
              "    </tr>\n",
              "    <tr>\n",
              "      <th>лавка</th>\n",
              "      <td>0.803040</td>\n",
              "      <td>3</td>\n",
              "      <td>0.156503</td>\n",
              "      <td>0.084436</td>\n",
              "      <td>82/67</td>\n",
              "      <td>cosine</td>\n",
              "      <td>average</td>\n",
              "    </tr>\n",
              "    <tr>\n",
              "      <th>лайка</th>\n",
              "      <td>0.694986</td>\n",
              "      <td>2</td>\n",
              "      <td>0.111368</td>\n",
              "      <td>0.059703</td>\n",
              "      <td>81/18</td>\n",
              "      <td>cosine</td>\n",
              "      <td>average</td>\n",
              "    </tr>\n",
              "    <tr>\n",
              "      <th>лев</th>\n",
              "      <td>0.744703</td>\n",
              "      <td>4</td>\n",
              "      <td>0.104667</td>\n",
              "      <td>0.057120</td>\n",
              "      <td>36/4/2/2</td>\n",
              "      <td>cosine</td>\n",
              "      <td>average</td>\n",
              "    </tr>\n",
              "    <tr>\n",
              "      <th>лира</th>\n",
              "      <td>0.945312</td>\n",
              "      <td>3</td>\n",
              "      <td>0.148874</td>\n",
              "      <td>0.081618</td>\n",
              "      <td>33/16</td>\n",
              "      <td>cosine</td>\n",
              "      <td>average</td>\n",
              "    </tr>\n",
              "    <tr>\n",
              "      <th>мина</th>\n",
              "      <td>0.931500</td>\n",
              "      <td>2</td>\n",
              "      <td>0.188059</td>\n",
              "      <td>0.102109</td>\n",
              "      <td>51/12/2</td>\n",
              "      <td>cosine</td>\n",
              "      <td>average</td>\n",
              "    </tr>\n",
              "    <tr>\n",
              "      <th>мишень</th>\n",
              "      <td>0.528470</td>\n",
              "      <td>3</td>\n",
              "      <td>0.130830</td>\n",
              "      <td>0.070309</td>\n",
              "      <td>88/33</td>\n",
              "      <td>cosine</td>\n",
              "      <td>average</td>\n",
              "    </tr>\n",
              "    <tr>\n",
              "      <th>обед</th>\n",
              "      <td>0.084814</td>\n",
              "      <td>9</td>\n",
              "      <td>0.132020</td>\n",
              "      <td>0.071496</td>\n",
              "      <td>62/19/17/2</td>\n",
              "      <td>cosine</td>\n",
              "      <td>average</td>\n",
              "    </tr>\n",
              "    <tr>\n",
              "      <th>оклад</th>\n",
              "      <td>0.692332</td>\n",
              "      <td>3</td>\n",
              "      <td>0.096843</td>\n",
              "      <td>0.051625</td>\n",
              "      <td>137/5/4</td>\n",
              "      <td>cosine</td>\n",
              "      <td>average</td>\n",
              "    </tr>\n",
              "    <tr>\n",
              "      <th>опушка</th>\n",
              "      <td>1.000000</td>\n",
              "      <td>2</td>\n",
              "      <td>0.123477</td>\n",
              "      <td>0.066415</td>\n",
              "      <td>142/6</td>\n",
              "      <td>cosine</td>\n",
              "      <td>average</td>\n",
              "    </tr>\n",
              "    <tr>\n",
              "      <th>полис</th>\n",
              "      <td>0.996259</td>\n",
              "      <td>4</td>\n",
              "      <td>0.142745</td>\n",
              "      <td>0.076192</td>\n",
              "      <td>139/3</td>\n",
              "      <td>cosine</td>\n",
              "      <td>average</td>\n",
              "    </tr>\n",
              "    <tr>\n",
              "      <th>пост</th>\n",
              "      <td>0.903175</td>\n",
              "      <td>3</td>\n",
              "      <td>0.170102</td>\n",
              "      <td>0.092055</td>\n",
              "      <td>98/32/10/2/2</td>\n",
              "      <td>cosine</td>\n",
              "      <td>average</td>\n",
              "    </tr>\n",
              "    <tr>\n",
              "      <th>поток</th>\n",
              "      <td>0.094771</td>\n",
              "      <td>2</td>\n",
              "      <td>0.084184</td>\n",
              "      <td>0.045139</td>\n",
              "      <td>124/12</td>\n",
              "      <td>cosine</td>\n",
              "      <td>average</td>\n",
              "    </tr>\n",
              "    <tr>\n",
              "      <th>проказа</th>\n",
              "      <td>0.714616</td>\n",
              "      <td>2</td>\n",
              "      <td>0.165155</td>\n",
              "      <td>0.089867</td>\n",
              "      <td>95/51</td>\n",
              "      <td>cosine</td>\n",
              "      <td>average</td>\n",
              "    </tr>\n",
              "    <tr>\n",
              "      <th>пропасть</th>\n",
              "      <td>0.686300</td>\n",
              "      <td>2</td>\n",
              "      <td>0.130080</td>\n",
              "      <td>0.070270</td>\n",
              "      <td>92/25/7/3</td>\n",
              "      <td>cosine</td>\n",
              "      <td>average</td>\n",
              "    </tr>\n",
              "    <tr>\n",
              "      <th>проспект</th>\n",
              "      <td>0.518119</td>\n",
              "      <td>2</td>\n",
              "      <td>0.257097</td>\n",
              "      <td>0.144528</td>\n",
              "      <td>117/12/6/4</td>\n",
              "      <td>cosine</td>\n",
              "      <td>average</td>\n",
              "    </tr>\n",
              "    <tr>\n",
              "      <th>пытка</th>\n",
              "      <td>0.539460</td>\n",
              "      <td>4</td>\n",
              "      <td>0.076578</td>\n",
              "      <td>0.041229</td>\n",
              "      <td>116/27</td>\n",
              "      <td>cosine</td>\n",
              "      <td>average</td>\n",
              "    </tr>\n",
              "    <tr>\n",
              "      <th>рысь</th>\n",
              "      <td>0.804603</td>\n",
              "      <td>2</td>\n",
              "      <td>0.172536</td>\n",
              "      <td>0.095688</td>\n",
              "      <td>82/38</td>\n",
              "      <td>cosine</td>\n",
              "      <td>average</td>\n",
              "    </tr>\n",
              "    <tr>\n",
              "      <th>среда</th>\n",
              "      <td>0.854485</td>\n",
              "      <td>7</td>\n",
              "      <td>0.194999</td>\n",
              "      <td>0.111103</td>\n",
              "      <td>52/47/32/13</td>\n",
              "      <td>cosine</td>\n",
              "      <td>average</td>\n",
              "    </tr>\n",
              "    <tr>\n",
              "      <th>хвост</th>\n",
              "      <td>0.758997</td>\n",
              "      <td>2</td>\n",
              "      <td>0.149353</td>\n",
              "      <td>0.082016</td>\n",
              "      <td>100/12/8/1</td>\n",
              "      <td>cosine</td>\n",
              "      <td>average</td>\n",
              "    </tr>\n",
              "    <tr>\n",
              "      <th>штамп</th>\n",
              "      <td>0.656885</td>\n",
              "      <td>4</td>\n",
              "      <td>0.109854</td>\n",
              "      <td>0.059163</td>\n",
              "      <td>47/45/3/1</td>\n",
              "      <td>cosine</td>\n",
              "      <td>average</td>\n",
              "    </tr>\n",
              "  </tbody>\n",
              "</table>\n",
              "</div>"
            ],
            "text/plain": [
              "               ari  nc  sil_cosine  ...                 vc affinity  linkage\n",
              "word                                ...                                     \n",
              "балка     0.834313   2    0.149469  ...              81/38   cosine  average\n",
              "вид       0.774342   2    0.094609  ...            38/36/3   cosine  average\n",
              "винт      0.314024   7    0.130702  ...         67/39/16/1   cosine  average\n",
              "горн      0.617461   2    0.099717  ...            30/20/1   cosine  average\n",
              "губа      0.738749   2    0.213769  ...            132/3/2   cosine  average\n",
              "жаба      0.507929   5    0.162723  ...          79/27/9/6   cosine  average\n",
              "клетка    0.799571   6    0.126598  ...      96/38/7/4/4/1   cosine  average\n",
              "крыло     0.562013   4    0.122369  ...  51/19/7/5/4/3/1/1   cosine  average\n",
              "купюра    0.899256   3    0.113443  ...             138/12   cosine  average\n",
              "курица    0.576560   2    0.161696  ...              62/31   cosine  average\n",
              "лавка     0.803040   3    0.156503  ...              82/67   cosine  average\n",
              "лайка     0.694986   2    0.111368  ...              81/18   cosine  average\n",
              "лев       0.744703   4    0.104667  ...           36/4/2/2   cosine  average\n",
              "лира      0.945312   3    0.148874  ...              33/16   cosine  average\n",
              "мина      0.931500   2    0.188059  ...            51/12/2   cosine  average\n",
              "мишень    0.528470   3    0.130830  ...              88/33   cosine  average\n",
              "обед      0.084814   9    0.132020  ...         62/19/17/2   cosine  average\n",
              "оклад     0.692332   3    0.096843  ...            137/5/4   cosine  average\n",
              "опушка    1.000000   2    0.123477  ...              142/6   cosine  average\n",
              "полис     0.996259   4    0.142745  ...              139/3   cosine  average\n",
              "пост      0.903175   3    0.170102  ...       98/32/10/2/2   cosine  average\n",
              "поток     0.094771   2    0.084184  ...             124/12   cosine  average\n",
              "проказа   0.714616   2    0.165155  ...              95/51   cosine  average\n",
              "пропасть  0.686300   2    0.130080  ...          92/25/7/3   cosine  average\n",
              "проспект  0.518119   2    0.257097  ...         117/12/6/4   cosine  average\n",
              "пытка     0.539460   4    0.076578  ...             116/27   cosine  average\n",
              "рысь      0.804603   2    0.172536  ...              82/38   cosine  average\n",
              "среда     0.854485   7    0.194999  ...        52/47/32/13   cosine  average\n",
              "хвост     0.758997   2    0.149353  ...         100/12/8/1   cosine  average\n",
              "штамп     0.656885   4    0.109854  ...          47/45/3/1   cosine  average\n",
              "\n",
              "[30 rows x 7 columns]"
            ]
          },
          "metadata": {},
          "execution_count": 188
        }
      ]
    }
  ]
}